{
 "cells": [
  {
   "cell_type": "code",
   "execution_count": 1,
   "metadata": {},
   "outputs": [],
   "source": [
    "from pyspark.sql import SparkSession"
   ]
  },
  {
   "cell_type": "code",
   "execution_count": 2,
   "metadata": {},
   "outputs": [],
   "source": [
    "spark = SparkSession.builder.appName(\"Tutorial\").getOrCreate()"
   ]
  },
  {
   "cell_type": "code",
   "execution_count": 3,
   "metadata": {},
   "outputs": [],
   "source": [
    "df_csv = spark.read.csv(\"201508_station_data.csv\", header=True, inferSchema=True)"
   ]
  },
  {
   "cell_type": "code",
   "execution_count": 4,
   "metadata": {},
   "outputs": [
    {
     "name": "stdout",
     "output_type": "stream",
     "text": [
      "+----------+--------------------+---------+-----------+---------+------------+------------+\n",
      "|station_id|                name|      lat|       long|dockcount|    landmark|installation|\n",
      "+----------+--------------------+---------+-----------+---------+------------+------------+\n",
      "|         2|San Jose Diridon ...|37.329732|-121.901782|       27|    San Jose|    8/6/2013|\n",
      "|         3|San Jose Civic Ce...|37.330698|-121.888979|       15|    San Jose|    8/5/2013|\n",
      "|         4|Santa Clara at Al...|37.333988|-121.894902|       11|    San Jose|    8/6/2013|\n",
      "|         5|    Adobe on Almaden|37.331415|  -121.8932|       19|    San Jose|    8/5/2013|\n",
      "|         6|    San Pedro Square|37.336721|-121.894074|       15|    San Jose|    8/7/2013|\n",
      "|         7|Paseo de San Antonio|37.333798|-121.886943|       15|    San Jose|    8/7/2013|\n",
      "|         8| San Salvador at 1st|37.330165|-121.885831|       15|    San Jose|    8/5/2013|\n",
      "|         9|           Japantown|37.348742|-121.894715|       15|    San Jose|    8/5/2013|\n",
      "|        10|  San Jose City Hall|37.337391|-121.886995|       15|    San Jose|    8/6/2013|\n",
      "|        11|         MLK Library|37.335885| -121.88566|       19|    San Jose|    8/6/2013|\n",
      "|        12|SJSU 4th at San C...|37.332808|-121.883891|       19|    San Jose|    8/7/2013|\n",
      "|        13|       St James Park|37.339301|-121.889937|       15|    San Jose|    8/6/2013|\n",
      "|        14|Arena Green / SAP...|37.332692|-121.900084|       19|    San Jose|    8/5/2013|\n",
      "|        16|SJSU - San Salvad...|37.333955|-121.877349|       15|    San Jose|    8/7/2013|\n",
      "|        21|   Franklin at Maple|37.481758|-122.226904|       15|Redwood City|   8/12/2013|\n",
      "|        22|Redwood City Calt...|37.486078|-122.232089|       25|Redwood City|   8/15/2013|\n",
      "|        23|San Mateo County ...|37.487616|-122.229951|       15|Redwood City|   8/15/2013|\n",
      "|        24|Redwood City Publ...|37.484219|-122.227424|       15|Redwood City|   8/12/2013|\n",
      "|        25|Stanford in Redwo...| 37.48537|-122.203288|       15|Redwood City|   8/12/2013|\n",
      "|        26|Redwood City Medi...|37.487682|-122.223492|       15|Redwood City|   8/12/2013|\n",
      "+----------+--------------------+---------+-----------+---------+------------+------------+\n",
      "only showing top 20 rows\n",
      "\n"
     ]
    }
   ],
   "source": [
    "df_csv.show()"
   ]
  },
  {
   "cell_type": "code",
   "execution_count": 5,
   "metadata": {},
   "outputs": [
    {
     "data": {
      "text/plain": [
       "[Row(station_id=2, name='San Jose Diridon Caltrain Station', lat=37.329732, long=-121.901782, dockcount=27, landmark='San Jose', installation='8/6/2013'),\n",
       " Row(station_id=3, name='San Jose Civic Center', lat=37.330698, long=-121.888979, dockcount=15, landmark='San Jose', installation='8/5/2013'),\n",
       " Row(station_id=4, name='Santa Clara at Almaden', lat=37.333988, long=-121.894902, dockcount=11, landmark='San Jose', installation='8/6/2013'),\n",
       " Row(station_id=5, name='Adobe on Almaden', lat=37.331415, long=-121.8932, dockcount=19, landmark='San Jose', installation='8/5/2013'),\n",
       " Row(station_id=6, name='San Pedro Square', lat=37.336721, long=-121.894074, dockcount=15, landmark='San Jose', installation='8/7/2013')]"
      ]
     },
     "execution_count": 5,
     "metadata": {},
     "output_type": "execute_result"
    }
   ],
   "source": [
    "df_csv.head(5)"
   ]
  },
  {
   "cell_type": "code",
   "execution_count": 6,
   "metadata": {},
   "outputs": [
    {
     "data": {
      "text/plain": [
       "pyspark.sql.dataframe.DataFrame"
      ]
     },
     "execution_count": 6,
     "metadata": {},
     "output_type": "execute_result"
    }
   ],
   "source": [
    "type(df_csv)"
   ]
  },
  {
   "cell_type": "code",
   "execution_count": 7,
   "metadata": {},
   "outputs": [
    {
     "name": "stdout",
     "output_type": "stream",
     "text": [
      "root\n",
      " |-- station_id: integer (nullable = true)\n",
      " |-- name: string (nullable = true)\n",
      " |-- lat: double (nullable = true)\n",
      " |-- long: double (nullable = true)\n",
      " |-- dockcount: integer (nullable = true)\n",
      " |-- landmark: string (nullable = true)\n",
      " |-- installation: string (nullable = true)\n",
      "\n"
     ]
    }
   ],
   "source": [
    "df_csv.printSchema()"
   ]
  },
  {
   "cell_type": "code",
   "execution_count": 8,
   "metadata": {},
   "outputs": [
    {
     "data": {
      "text/plain": [
       "['station_id', 'name', 'lat', 'long', 'dockcount', 'landmark', 'installation']"
      ]
     },
     "execution_count": 8,
     "metadata": {},
     "output_type": "execute_result"
    }
   ],
   "source": [
    "df_csv.columns"
   ]
  },
  {
   "cell_type": "code",
   "execution_count": 9,
   "metadata": {},
   "outputs": [
    {
     "name": "stdout",
     "output_type": "stream",
     "text": [
      "+----------+\n",
      "|station_id|\n",
      "+----------+\n",
      "|         2|\n",
      "|         3|\n",
      "|         4|\n",
      "|         5|\n",
      "|         6|\n",
      "|         7|\n",
      "|         8|\n",
      "|         9|\n",
      "|        10|\n",
      "|        11|\n",
      "|        12|\n",
      "|        13|\n",
      "|        14|\n",
      "|        16|\n",
      "|        21|\n",
      "|        22|\n",
      "|        23|\n",
      "|        24|\n",
      "|        25|\n",
      "|        26|\n",
      "+----------+\n",
      "only showing top 20 rows\n",
      "\n"
     ]
    }
   ],
   "source": [
    "df_csv.select('station_id').show()"
   ]
  },
  {
   "cell_type": "code",
   "execution_count": 10,
   "metadata": {},
   "outputs": [
    {
     "name": "stdout",
     "output_type": "stream",
     "text": [
      "+----------+--------------------+\n",
      "|station_id|                name|\n",
      "+----------+--------------------+\n",
      "|         2|San Jose Diridon ...|\n",
      "|         3|San Jose Civic Ce...|\n",
      "|         4|Santa Clara at Al...|\n",
      "|         5|    Adobe on Almaden|\n",
      "|         6|    San Pedro Square|\n",
      "|         7|Paseo de San Antonio|\n",
      "|         8| San Salvador at 1st|\n",
      "|         9|           Japantown|\n",
      "|        10|  San Jose City Hall|\n",
      "|        11|         MLK Library|\n",
      "|        12|SJSU 4th at San C...|\n",
      "|        13|       St James Park|\n",
      "|        14|Arena Green / SAP...|\n",
      "|        16|SJSU - San Salvad...|\n",
      "|        21|   Franklin at Maple|\n",
      "|        22|Redwood City Calt...|\n",
      "|        23|San Mateo County ...|\n",
      "|        24|Redwood City Publ...|\n",
      "|        25|Stanford in Redwo...|\n",
      "|        26|Redwood City Medi...|\n",
      "+----------+--------------------+\n",
      "only showing top 20 rows\n",
      "\n"
     ]
    }
   ],
   "source": [
    "df_csv.select('station_id', 'name').show()"
   ]
  },
  {
   "cell_type": "code",
   "execution_count": 11,
   "metadata": {},
   "outputs": [
    {
     "data": {
      "text/plain": [
       "[('station_id', 'int'),\n",
       " ('name', 'string'),\n",
       " ('lat', 'double'),\n",
       " ('long', 'double'),\n",
       " ('dockcount', 'int'),\n",
       " ('landmark', 'string'),\n",
       " ('installation', 'string')]"
      ]
     },
     "execution_count": 11,
     "metadata": {},
     "output_type": "execute_result"
    }
   ],
   "source": [
    "df_csv.dtypes"
   ]
  },
  {
   "cell_type": "code",
   "execution_count": 12,
   "metadata": {},
   "outputs": [
    {
     "name": "stdout",
     "output_type": "stream",
     "text": [
      "+-------+------------------+--------------------+-------------------+-------------------+-----------------+-------------+------------+\n",
      "|summary|        station_id|                name|                lat|               long|        dockcount|     landmark|installation|\n",
      "+-------+------------------+--------------------+-------------------+-------------------+-----------------+-------------+------------+\n",
      "|  count|                70|                  70|                 70|                 70|               70|           70|          70|\n",
      "|   mean|              43.0|                null|  37.59024338428572|-122.21841616428571|17.65714285714286|         null|        null|\n",
      "| stddev|24.166091947189145|                null|0.20347253639672416| 0.2094460497964454|4.010441857493954|         null|        null|\n",
      "|    min|                 2|       2nd at Folsom|          37.329732|        -122.418954|               11|Mountain View|   1/22/2014|\n",
      "|    max|                84|Yerba Buena Cente...|           37.80477|        -121.877349|               27|     San Jose|    8/7/2013|\n",
      "+-------+------------------+--------------------+-------------------+-------------------+-----------------+-------------+------------+\n",
      "\n"
     ]
    }
   ],
   "source": [
    "df_csv.describe().show()"
   ]
  },
  {
   "cell_type": "code",
   "execution_count": 13,
   "metadata": {},
   "outputs": [
    {
     "name": "stdout",
     "output_type": "stream",
     "text": [
      "+----------+----------------+---------+-----------+---------+--------+------------+\n",
      "|station_id|            name|      lat|       long|dockcount|landmark|installation|\n",
      "+----------+----------------+---------+-----------+---------+--------+------------+\n",
      "|         6|San Pedro Square|37.336721|-121.894074|       15|San Jose|    8/7/2013|\n",
      "+----------+----------------+---------+-----------+---------+--------+------------+\n",
      "\n"
     ]
    }
   ],
   "source": [
    "df_csv.filter(df_csv.name == 'San Pedro Square').show()"
   ]
  },
  {
   "cell_type": "code",
   "execution_count": 15,
   "metadata": {},
   "outputs": [
    {
     "data": {
      "text/plain": [
       "18"
      ]
     },
     "execution_count": 15,
     "metadata": {},
     "output_type": "execute_result"
    }
   ],
   "source": [
    "df_csv.filter(df_csv.dockcount == 19).count()"
   ]
  },
  {
   "cell_type": "code",
   "execution_count": null,
   "metadata": {},
   "outputs": [],
   "source": []
  }
 ],
 "metadata": {
  "kernelspec": {
   "display_name": "base",
   "language": "python",
   "name": "python3"
  },
  "language_info": {
   "codemirror_mode": {
    "name": "ipython",
    "version": 3
   },
   "file_extension": ".py",
   "mimetype": "text/x-python",
   "name": "python",
   "nbconvert_exporter": "python",
   "pygments_lexer": "ipython3",
   "version": "3.8.8"
  },
  "orig_nbformat": 4
 },
 "nbformat": 4,
 "nbformat_minor": 2
}
