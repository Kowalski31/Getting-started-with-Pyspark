{
 "cells": [
  {
   "cell_type": "code",
   "execution_count": 1,
   "metadata": {},
   "outputs": [],
   "source": [
    "import pyspark\n",
    "from pyspark.sql import SparkSession\n",
    "spark = SparkSession.builder.master('local').appName('StructureAPI').config('spark.some.config.option', 'some-value').getOrCreate()"
   ]
  },
  {
   "cell_type": "code",
   "execution_count": 2,
   "metadata": {},
   "outputs": [],
   "source": [
    "from pyspark.sql.functions import col, column, expr\n",
    "from pyspark.sql import functions as f"
   ]
  },
  {
   "cell_type": "code",
   "execution_count": 3,
   "metadata": {},
   "outputs": [],
   "source": [
    "df = spark.read.json('movies.json')"
   ]
  },
  {
   "cell_type": "code",
   "execution_count": 4,
   "metadata": {},
   "outputs": [
    {
     "name": "stdout",
     "output_type": "stream",
     "text": [
      "+----------------+--------------------+--------------------+----+\n",
      "|            cast|              genres|               title|year|\n",
      "+----------------+--------------------+--------------------+----+\n",
      "|              []|                  []|After Dark in Cen...|1900|\n",
      "|              []|                  []|Boarding School G...|1900|\n",
      "|              []|                  []|Buffalo Bill's Wi...|1900|\n",
      "|              []|                  []|              Caught|1900|\n",
      "|              []|                  []|Clowns Spinning Hats|1900|\n",
      "|              []|[Short, Documentary]|Capture of Boer B...|1900|\n",
      "|              []|                  []|The Enchanted Dra...|1900|\n",
      "|   [Paul Boyton]|                  []|   Feeding Sea Lions|1900|\n",
      "|              []|            [Comedy]|How to Make a Fat...|1900|\n",
      "|              []|                  []|     New Life Rescue|1900|\n",
      "|              []|                  []|    New Morning Bath|1900|\n",
      "|              []|                  []|Searching Ruins o...|1900|\n",
      "|              []|                  []|The Tribulations ...|1900|\n",
      "|              []|            [Comedy]|Trouble in Hogan'...|1900|\n",
      "|              []|             [Short]|      Two Old Sparks|1900|\n",
      "|[Ching Ling Foo]|             [Short]|The Wonder, Ching...|1900|\n",
      "|              []|             [Short]|  Watermelon Contest|1900|\n",
      "|              []|                  []|   Acrobats in Cairo|1901|\n",
      "|              []|                  []|  An Affair of Honor|1901|\n",
      "|              []|                  []|Another Job for t...|1901|\n",
      "+----------------+--------------------+--------------------+----+\n",
      "only showing top 20 rows\n",
      "\n"
     ]
    }
   ],
   "source": [
    "df.show()"
   ]
  },
  {
   "cell_type": "code",
   "execution_count": 5,
   "metadata": {},
   "outputs": [
    {
     "name": "stdout",
     "output_type": "stream",
     "text": [
      "root\n",
      " |-- cast: array (nullable = true)\n",
      " |    |-- element: string (containsNull = true)\n",
      " |-- genres: array (nullable = true)\n",
      " |    |-- element: string (containsNull = true)\n",
      " |-- title: string (nullable = true)\n",
      " |-- year: long (nullable = true)\n",
      "\n"
     ]
    }
   ],
   "source": [
    "df.printSchema()"
   ]
  },
  {
   "cell_type": "code",
   "execution_count": 6,
   "metadata": {},
   "outputs": [
    {
     "data": {
      "text/plain": [
       "28789"
      ]
     },
     "execution_count": 6,
     "metadata": {},
     "output_type": "execute_result"
    }
   ],
   "source": [
    "# 1. Show the number of distinct fimls in the dataset\n",
    "df.distinct().count()"
   ]
  },
  {
   "cell_type": "code",
   "execution_count": 7,
   "metadata": {},
   "outputs": [
    {
     "data": {
      "text/plain": [
       "1015"
      ]
     },
     "execution_count": 7,
     "metadata": {},
     "output_type": "execute_result"
    }
   ],
   "source": [
    "# 2. Count the number of films released during the years 2012 and 2015 (included)\n",
    "df.filter((col('year') >= 2012) & (col('year') <= 2015)).count()"
   ]
  },
  {
   "cell_type": "code",
   "execution_count": 8,
   "metadata": {},
   "outputs": [
    {
     "name": "stdout",
     "output_type": "stream",
     "text": [
      "+----+-----+\n",
      "|year|count|\n",
      "+----+-----+\n",
      "|1919|  634|\n",
      "+----+-----+\n",
      "\n"
     ]
    }
   ],
   "source": [
    "# 3. Show the year in which the number of movies released is highest. Only one highest year is expected in the output.\n",
    "df.groupBy('year').count().sort('count', ascending=False).limit(1).show()"
   ]
  },
  {
   "cell_type": "code",
   "execution_count": 9,
   "metadata": {},
   "outputs": [
    {
     "name": "stdout",
     "output_type": "stream",
     "text": [
      "+--------------------+----------------+--------------------+----+\n",
      "|                cast|          genres|               title|year|\n",
      "+--------------------+----------------+--------------------+----+\n",
      "|[Earle Foxe, Alie...|         [Drama]|  A Desperate Chance|1913|\n",
      "|[Charlotte Burton...|         [Drama]|    The Archeologist|1914|\n",
      "|[Charlotte Burton...|         [Drama]|At the Potter's W...|1914|\n",
      "|[Herbert Tracey, ...|        [Comedy]|    Back to the Farm|1914|\n",
      "|[Charlotte Burton...|              []|    The Beggar Child|1914|\n",
      "|[William Garwood,...|              []|       Billy's Rival|1914|\n",
      "|[B. Reeves Eason,...|         [Drama]| Break, Break, Break|1914|\n",
      "|[Charlotte Burton...|              []|       The Butterfly|1914|\n",
      "|[Charlotte Burton...|       [Western]|Calamity Anne's L...|1914|\n",
      "|[Charlie Chaplin,...|        [Comedy]|    The Star Boarder|1914|\n",
      "|[Sydney Ayres, Ja...|              []|A Story of Little...|1914|\n",
      "|[Sydney Ayres, Pe...|              []|The Story of the ...|1914|\n",
      "|[Charlotte Burton...|              []|    This Is th' Life|1914|\n",
      "|[Lon Chaney, Leat...|  [Crime, Drama]|   The Ace of Hearts|1921|\n",
      "|[Madge Kennedy, M...| [Comedy, Drama]|  The Purple Highway|1923|\n",
      "|[Douglas Fairbank...|              []| The Thief of Bagdad|1924|\n",
      "|[Kru, Chantui, Na...|   [Documentary]|Chang: A Drama of...|1927|\n",
      "|[H. B. Warner, An...|         [Drama]|     Sorrell and Son|1927|\n",
      "|[Sam De Grasse, V...|     [Adventure]|The Wreck of the ...|1927|\n",
      "|[Fredric March, O...|[Drama, Romance]|     Anthony Adverse|1936|\n",
      "+--------------------+----------------+--------------------+----+\n",
      "only showing top 20 rows\n",
      "\n"
     ]
    }
   ],
   "source": [
    "# 4. Show the list of movies such that for each film, \n",
    "# the number of actors/actresses is at least five, and the number of genres it belongs to is at most two genres.\n",
    "df.filter((f.size('cast') >= 5) & (f.size('genres') <= 2)).show()"
   ]
  },
  {
   "cell_type": "code",
   "execution_count": 10,
   "metadata": {},
   "outputs": [
    {
     "name": "stdout",
     "output_type": "stream",
     "text": [
      "+----+------+--------------------+----+\n",
      "|cast|genres|               title|year|\n",
      "+----+------+--------------------+----+\n",
      "|  []|    []|Cornell-Columbia-...|1901|\n",
      "+----+------+--------------------+----+\n",
      "\n"
     ]
    }
   ],
   "source": [
    "# 5. Show all the movies whose names are longest.\n",
    "df.filter(f.length('title') == df.select(f.max(f.length('title'))).collect()[0][0]).show()\n"
   ]
  },
  {
   "cell_type": "code",
   "execution_count": 11,
   "metadata": {},
   "outputs": [
    {
     "name": "stdout",
     "output_type": "stream",
     "text": [
      "+--------------------+---------------+--------------------+----+\n",
      "|                cast|         genres|               title|year|\n",
      "+--------------------+---------------+--------------------+----+\n",
      "|[Bessie Love, Ann...|[Comedy, Drama]|  A Fighting Colleen|1919|\n",
      "|[Blanche Sweet, R...|      [Western]|     Fighting Cressy|1919|\n",
      "|[Harry T. Morey, ...|        [Drama]|    Fighting Destiny|1919|\n",
      "|[Tom Mix, Teddy S...|      [Western]|   Fighting for Gold|1919|\n",
      "|[Jack Perrin, Hoo...|      [Western]|  The Fighting Heart|1919|\n",
      "|[Art Acord, Mildr...|      [Western]|   The Fighting Line|1919|\n",
      "|[William Duncan, ...|       [Action]|  The Fighting Guide|1922|\n",
      "|[Tom Mix, Patsy R...|      [Western]| The Fighting Streak|1922|\n",
      "|[Richard Barthelm...|   [Historical]|  The Fighting Blade|1923|\n",
      "|[Ernest Torrence,...|       [Comedy]| The Fighting Coward|1924|\n",
      "|[Jack Hoxie, Hele...|      [Western]|       Fighting Fury|1924|\n",
      "|[Pat O'Malley, Ma...|        [Drama]|The Fighting Adve...|1924|\n",
      "|[Fred Thomson, Ha...|      [Western]|    The Fighting Sap|1924|\n",
      "|[Richard Talmadge...|       [Action]|  The Fighting Demon|1925|\n",
      "|[Billy Sullivan, ...|       [Sports]|       Fighting Fate|1925|\n",
      "|[George O'Brien, ...|        [Drama]|  The Fighting Heart|1925|\n",
      "|[Bob Reeves, Lew ...|      [Western]|       Fighting Luck|1925|\n",
      "|[Bill Cody, Jean ...|      [Western]|  The Fighting Smile|1925|\n",
      "|[William Haines, ...|        [Drama]| Fighting the Flames|1925|\n",
      "|[William Fairbank...|       [Action]|      Fighting Youth|1925|\n",
      "+--------------------+---------------+--------------------+----+\n",
      "only showing top 20 rows\n",
      "\n"
     ]
    }
   ],
   "source": [
    "# 6. Show the movies whose name contains the word “fighting” (case-insensitive). \n",
    "df.filter(f.lower(f.col('title')).contains('fighting')).show()"
   ]
  },
  {
   "cell_type": "code",
   "execution_count": 12,
   "metadata": {},
   "outputs": [
    {
     "name": "stdout",
     "output_type": "stream",
     "text": [
      "+-------------+\n",
      "|          col|\n",
      "+-------------+\n",
      "|        Crime|\n",
      "|      Romance|\n",
      "|     Thriller|\n",
      "|      Slasher|\n",
      "|Found Footage|\n",
      "|    Adventure|\n",
      "|         Teen|\n",
      "| Martial Arts|\n",
      "|       Sports|\n",
      "|        Drama|\n",
      "|          War|\n",
      "|  Documentary|\n",
      "|       Family|\n",
      "|      Fantasy|\n",
      "|       Silent|\n",
      "|     Disaster|\n",
      "|        Legal|\n",
      "|      Mystery|\n",
      "| Supernatural|\n",
      "|     Suspense|\n",
      "+-------------+\n",
      "only showing top 20 rows\n",
      "\n"
     ]
    }
   ],
   "source": [
    "# Show the list of distinct genres in the dataset.\n",
    "df.select(f.explode('genres')).distinct().show()"
   ]
  },
  {
   "cell_type": "code",
   "execution_count": 13,
   "metadata": {},
   "outputs": [],
   "source": [
    "# 8. List all movies in which the actor Harrison Ford has participated.\n",
    "# df2 = df.withColumn('individual cast', f.explode('cast'))\n",
    "\n",
    "# df2.filter(f.col('individual cast').contains('Harrison Ford')).show()"
   ]
  },
  {
   "cell_type": "code",
   "execution_count": 14,
   "metadata": {},
   "outputs": [
    {
     "name": "stdout",
     "output_type": "stream",
     "text": [
      "+--------------------+-----------------+--------------------+----+\n",
      "|                cast|           genres|               title|year|\n",
      "+--------------------+-----------------+--------------------+----+\n",
      "|[Constance Talmad...|[Romance, Comedy]|Experimental Marr...|1919|\n",
      "|[Constance Talmad...|         [Comedy]| Happiness a la Mode|1919|\n",
      "|[Constance Talmad...|         [Comedy]|Romance and Arabella|1919|\n",
      "|[Vivian Martin, H...|         [Comedy]|      The Third Kiss|1919|\n",
      "|[Harrison Ford, C...|         [Comedy]|The Veiled Adventure|1919|\n",
      "|[Constance Talmad...|         [Comedy]|          Who Cares?|1919|\n",
      "|[Vivian Martin, H...|          [Drama]|You Never Saw Suc...|1919|\n",
      "|[Norma Talmadge, ...|          [Drama]| The Wonderful Thing|1921|\n",
      "|[Alma Rubens, Har...|        [Mystery]|      Find the Woman|1922|\n",
      "|[Constance Talmad...|          [Drama]| The Primitive Lover|1922|\n",
      "|[Norma Talmadge, ...| [Romance, Drama]|     Smilin' Through|1922|\n",
      "|[Helen Jerome Edd...|          [Drama]|     When Love Comes|1922|\n",
      "|[Marion Davies, H...|     [Historical]| Little Old New York|1923|\n",
      "|[Madge Kennedy, H...|          [Drama]|     Three Miles Out|1924|\n",
      "|[Margaret Livings...|          [Drama]|           The Wheel|1925|\n",
      "|[Marie Prevost, H...|         [Comedy]|       Almost a Lady|1926|\n",
      "|[Harrison Ford, M...|          [Drama]| Hell's Four Hundred|1926|\n",
      "|[Harrison Ford, P...|         [Comedy]|   The Nervous Wreck|1926|\n",
      "|[Marie Prevost, H...|         [Comedy]|  Up in Mabel's Room|1926|\n",
      "|[Vera Reynolds, H...|         [Comedy]|         Golf Widows|1928|\n",
      "+--------------------+-----------------+--------------------+----+\n",
      "only showing top 20 rows\n",
      "\n"
     ]
    }
   ],
   "source": [
    "# 8. List all movies in which the actor Harrison Ford has participated.\n",
    "df.filter(f.array_contains('cast', 'Harrison Ford')).show()"
   ]
  },
  {
   "cell_type": "code",
   "execution_count": 21,
   "metadata": {},
   "outputs": [
    {
     "name": "stdout",
     "output_type": "stream",
     "text": [
      "+--------------------+-----------+--------------------+----+---------------+\n",
      "|                cast|     genres|               title|year|individual cast|\n",
      "+--------------------+-----------+--------------------+----+---------------+\n",
      "|[Charlotte Burton...|         []|       The Butterfly|1914|      Ida Lewis|\n",
      "|[Pearl White, She...|    [Drama]|The Exploits of E...|1914|  Sheldon Lewis|\n",
      "|[Charlotte Burton...|   [Comedy]| Mein Lieber Katrina|1914|      Ida Lewis|\n",
      "|[Norma Talmadge, ...|    [Drama]|      Going Straight|1916|    Ralph Lewis|\n",
      "|[Dorothy Gish, Ra...|    [Drama]|Gretchen the Gree...|1916|    Ralph Lewis|\n",
      "|[Ben Lewis, Bessi...|  [Western]|     A Sister of Six|1916|      Ben Lewis|\n",
      "|[Gail Kane, Lewis...|    [Drama]| The Bride's Silence|1917|  Lewis J. Cody|\n",
      "|    [Mitchell Lewis]|    [Drama]|Nine-Tenths of th...|1918| Mitchell Lewis|\n",
      "|[Mitchell Lewis, ...|    [Drama]|The Faith of the ...|1919| Mitchell Lewis|\n",
      "|[Mary Pickford, R...|   [Comedy]|         The Hoodlum|1919|    Ralph Lewis|\n",
      "|[Mitchell Lewis, ...|    [Drama]|Jacques of the Si...|1919| Mitchell Lewis|\n",
      "|[Mitchell Lewis, ...|    [Drama]|The Last of His P...|1919| Mitchell Lewis|\n",
      "|[Lewis Stone, Jan...|    [Drama]|        Man's Desire|1919|    Lewis Stone|\n",
      "|[Mary Miles Minte...|   [Comedy]|   Yvonne from Paris|1919|     Vera Lewis|\n",
      "|[Mitchell Lewis, ...|    [Drama]|Nine-Tenths of th...|1919| Mitchell Lewis|\n",
      "|[Wedgwood Nowell,...|  [Mystery]|                 813|1920|    Ralph Lewis|\n",
      "|[Lewis Sargent, W...|[Adventure]|    Huckleberry Finn|1920|  Lewis Sargent|\n",
      "|[Pauline Frederic...|    [Drama]|             Salvage|1921|    Ralph Lewis|\n",
      "|[Viola Dana, Ralp...|   [Comedy]|The Five Dollar Baby|1922|    Ralph Lewis|\n",
      "|[Estelle Taylor, ...|    [Drama]|    A Fool There Was|1922|    Lewis Stone|\n",
      "+--------------------+-----------+--------------------+----+---------------+\n",
      "only showing top 20 rows\n",
      "\n"
     ]
    }
   ],
   "source": [
    "# 9. List all movies in which the actors/actresses whose names include the word “Lewis“ (case-insensitive) have participated.\n",
    "df2 = df.withColumn('individual cast', f.explode('cast'))\n",
    "\n",
    "df2.filter(f.col('individual cast').contains('Lewis')).show()"
   ]
  },
  {
   "cell_type": "code",
   "execution_count": 22,
   "metadata": {},
   "outputs": [
    {
     "name": "stdout",
     "output_type": "stream",
     "text": [
      "+----------------+-----+\n",
      "| individual cast|count|\n",
      "+----------------+-----+\n",
      "|    Harold Lloyd|  190|\n",
      "|     Hoot Gibson|  142|\n",
      "|      John Wayne|  136|\n",
      "|Charles Starrett|  116|\n",
      "|    Bebe Daniels|  103|\n",
      "+----------------+-----+\n",
      "\n"
     ]
    }
   ],
   "source": [
    "# 10. Show top five actors/actresses that have participated in most movies.\n",
    "df2.groupBy('individual cast').count().sort('count', ascending=False).limit(5).show()"
   ]
  },
  {
   "cell_type": "code",
   "execution_count": null,
   "metadata": {},
   "outputs": [],
   "source": []
  }
 ],
 "metadata": {
  "kernelspec": {
   "display_name": "base",
   "language": "python",
   "name": "python3"
  },
  "language_info": {
   "codemirror_mode": {
    "name": "ipython",
    "version": 3
   },
   "file_extension": ".py",
   "mimetype": "text/x-python",
   "name": "python",
   "nbconvert_exporter": "python",
   "pygments_lexer": "ipython3",
   "version": "3.8.8"
  },
  "orig_nbformat": 4
 },
 "nbformat": 4,
 "nbformat_minor": 2
}
