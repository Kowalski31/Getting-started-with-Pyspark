{
 "cells": [
  {
   "attachments": {},
   "cell_type": "markdown",
   "metadata": {},
   "source": [
    "#### 1. Consider the JSON file movies.json, whose content represents a movie dataset. Each record of the dataset stores the information of a movie. You first need to load the dataset into a Spark DataFrame and then, for each of the following requirements, write a PySpark code segment to fulfill the goal."
   ]
  },
  {
   "cell_type": "code",
   "execution_count": 74,
   "metadata": {},
   "outputs": [],
   "source": [
    "import pyspark\n",
    "from pyspark.sql import SparkSession\n",
    "spark = SparkSession.builder.master('local').appName('StructureAPI').config('spark.some.config.option', 'some-value').getOrCreate()"
   ]
  },
  {
   "cell_type": "code",
   "execution_count": 75,
   "metadata": {},
   "outputs": [],
   "source": [
    "from pyspark.sql.functions import col, column, expr\n",
    "from pyspark.sql import functions as f"
   ]
  },
  {
   "cell_type": "code",
   "execution_count": 76,
   "metadata": {},
   "outputs": [],
   "source": [
    "df = spark.read.json('movies.json')"
   ]
  },
  {
   "cell_type": "code",
   "execution_count": 77,
   "metadata": {},
   "outputs": [
    {
     "name": "stdout",
     "output_type": "stream",
     "text": [
      "+----------------+--------------------+--------------------+----+\n",
      "|            cast|              genres|               title|year|\n",
      "+----------------+--------------------+--------------------+----+\n",
      "|              []|                  []|After Dark in Cen...|1900|\n",
      "|              []|                  []|Boarding School G...|1900|\n",
      "|              []|                  []|Buffalo Bill's Wi...|1900|\n",
      "|              []|                  []|              Caught|1900|\n",
      "|              []|                  []|Clowns Spinning Hats|1900|\n",
      "|              []|[Short, Documentary]|Capture of Boer B...|1900|\n",
      "|              []|                  []|The Enchanted Dra...|1900|\n",
      "|   [Paul Boyton]|                  []|   Feeding Sea Lions|1900|\n",
      "|              []|            [Comedy]|How to Make a Fat...|1900|\n",
      "|              []|                  []|     New Life Rescue|1900|\n",
      "|              []|                  []|    New Morning Bath|1900|\n",
      "|              []|                  []|Searching Ruins o...|1900|\n",
      "|              []|                  []|The Tribulations ...|1900|\n",
      "|              []|            [Comedy]|Trouble in Hogan'...|1900|\n",
      "|              []|             [Short]|      Two Old Sparks|1900|\n",
      "|[Ching Ling Foo]|             [Short]|The Wonder, Ching...|1900|\n",
      "|              []|             [Short]|  Watermelon Contest|1900|\n",
      "|              []|                  []|   Acrobats in Cairo|1901|\n",
      "|              []|                  []|  An Affair of Honor|1901|\n",
      "|              []|                  []|Another Job for t...|1901|\n",
      "+----------------+--------------------+--------------------+----+\n",
      "only showing top 20 rows\n",
      "\n"
     ]
    }
   ],
   "source": [
    "df.show()"
   ]
  },
  {
   "cell_type": "code",
   "execution_count": 78,
   "metadata": {},
   "outputs": [
    {
     "name": "stdout",
     "output_type": "stream",
     "text": [
      "root\n",
      " |-- cast: array (nullable = true)\n",
      " |    |-- element: string (containsNull = true)\n",
      " |-- genres: array (nullable = true)\n",
      " |    |-- element: string (containsNull = true)\n",
      " |-- title: string (nullable = true)\n",
      " |-- year: long (nullable = true)\n",
      "\n"
     ]
    }
   ],
   "source": [
    "df.printSchema()"
   ]
  },
  {
   "cell_type": "code",
   "execution_count": 79,
   "metadata": {},
   "outputs": [
    {
     "data": {
      "text/plain": [
       "28789"
      ]
     },
     "execution_count": 79,
     "metadata": {},
     "output_type": "execute_result"
    }
   ],
   "source": [
    "# 1. Show the number of distinct fimls in the dataset\n",
    "df.distinct().count()"
   ]
  },
  {
   "cell_type": "code",
   "execution_count": 80,
   "metadata": {},
   "outputs": [
    {
     "data": {
      "text/plain": [
       "1015"
      ]
     },
     "execution_count": 80,
     "metadata": {},
     "output_type": "execute_result"
    }
   ],
   "source": [
    "# 2. Count the number of films released during the years 2012 and 2015 (included)\n",
    "df.filter((col('year') >= 2012) & (col('year') <= 2015)).count()"
   ]
  },
  {
   "cell_type": "code",
   "execution_count": 81,
   "metadata": {},
   "outputs": [
    {
     "name": "stdout",
     "output_type": "stream",
     "text": [
      "+----+-----+\n",
      "|year|count|\n",
      "+----+-----+\n",
      "|1919|  634|\n",
      "+----+-----+\n",
      "\n"
     ]
    }
   ],
   "source": [
    "# 3. Show the year in which the number of movies released is highest. Only one highest year is expected in the output.\n",
    "df.groupBy('year').count().sort('count', ascending=False).limit(1).show()"
   ]
  },
  {
   "cell_type": "code",
   "execution_count": 82,
   "metadata": {},
   "outputs": [
    {
     "name": "stdout",
     "output_type": "stream",
     "text": [
      "+--------------------+----------------+--------------------+----+\n",
      "|                cast|          genres|               title|year|\n",
      "+--------------------+----------------+--------------------+----+\n",
      "|[Earle Foxe, Alie...|         [Drama]|  A Desperate Chance|1913|\n",
      "|[Charlotte Burton...|         [Drama]|    The Archeologist|1914|\n",
      "|[Charlotte Burton...|         [Drama]|At the Potter's W...|1914|\n",
      "|[Herbert Tracey, ...|        [Comedy]|    Back to the Farm|1914|\n",
      "|[Charlotte Burton...|              []|    The Beggar Child|1914|\n",
      "|[William Garwood,...|              []|       Billy's Rival|1914|\n",
      "|[B. Reeves Eason,...|         [Drama]| Break, Break, Break|1914|\n",
      "|[Charlotte Burton...|              []|       The Butterfly|1914|\n",
      "|[Charlotte Burton...|       [Western]|Calamity Anne's L...|1914|\n",
      "|[Charlie Chaplin,...|        [Comedy]|    The Star Boarder|1914|\n",
      "|[Sydney Ayres, Ja...|              []|A Story of Little...|1914|\n",
      "|[Sydney Ayres, Pe...|              []|The Story of the ...|1914|\n",
      "|[Charlotte Burton...|              []|    This Is th' Life|1914|\n",
      "|[Lon Chaney, Leat...|  [Crime, Drama]|   The Ace of Hearts|1921|\n",
      "|[Madge Kennedy, M...| [Comedy, Drama]|  The Purple Highway|1923|\n",
      "|[Douglas Fairbank...|              []| The Thief of Bagdad|1924|\n",
      "|[Kru, Chantui, Na...|   [Documentary]|Chang: A Drama of...|1927|\n",
      "|[H. B. Warner, An...|         [Drama]|     Sorrell and Son|1927|\n",
      "|[Sam De Grasse, V...|     [Adventure]|The Wreck of the ...|1927|\n",
      "|[Fredric March, O...|[Drama, Romance]|     Anthony Adverse|1936|\n",
      "+--------------------+----------------+--------------------+----+\n",
      "only showing top 20 rows\n",
      "\n"
     ]
    }
   ],
   "source": [
    "# 4. Show the list of movies such that for each film, \n",
    "# the number of actors/actresses is at least five, and the number of genres it belongs to is at most two genres.\n",
    "df.filter((f.size('cast') >= 5) & (f.size('genres') <= 2)).show()"
   ]
  },
  {
   "cell_type": "code",
   "execution_count": 83,
   "metadata": {},
   "outputs": [
    {
     "name": "stdout",
     "output_type": "stream",
     "text": [
      "+----+------+--------------------+----+\n",
      "|cast|genres|               title|year|\n",
      "+----+------+--------------------+----+\n",
      "|  []|    []|Cornell-Columbia-...|1901|\n",
      "+----+------+--------------------+----+\n",
      "\n"
     ]
    }
   ],
   "source": [
    "# 5. Show all the movies whose names are longest.\n",
    "df.filter(f.length('title') == df.select(f.max(f.length('title'))).collect()[0][0]).show()\n"
   ]
  },
  {
   "cell_type": "code",
   "execution_count": 84,
   "metadata": {},
   "outputs": [
    {
     "name": "stdout",
     "output_type": "stream",
     "text": [
      "+--------------------+---------------+--------------------+----+\n",
      "|                cast|         genres|               title|year|\n",
      "+--------------------+---------------+--------------------+----+\n",
      "|[Bessie Love, Ann...|[Comedy, Drama]|  A Fighting Colleen|1919|\n",
      "|[Blanche Sweet, R...|      [Western]|     Fighting Cressy|1919|\n",
      "|[Harry T. Morey, ...|        [Drama]|    Fighting Destiny|1919|\n",
      "|[Tom Mix, Teddy S...|      [Western]|   Fighting for Gold|1919|\n",
      "|[Jack Perrin, Hoo...|      [Western]|  The Fighting Heart|1919|\n",
      "|[Art Acord, Mildr...|      [Western]|   The Fighting Line|1919|\n",
      "|[William Duncan, ...|       [Action]|  The Fighting Guide|1922|\n",
      "|[Tom Mix, Patsy R...|      [Western]| The Fighting Streak|1922|\n",
      "|[Richard Barthelm...|   [Historical]|  The Fighting Blade|1923|\n",
      "|[Ernest Torrence,...|       [Comedy]| The Fighting Coward|1924|\n",
      "|[Jack Hoxie, Hele...|      [Western]|       Fighting Fury|1924|\n",
      "|[Pat O'Malley, Ma...|        [Drama]|The Fighting Adve...|1924|\n",
      "|[Fred Thomson, Ha...|      [Western]|    The Fighting Sap|1924|\n",
      "|[Richard Talmadge...|       [Action]|  The Fighting Demon|1925|\n",
      "|[Billy Sullivan, ...|       [Sports]|       Fighting Fate|1925|\n",
      "|[George O'Brien, ...|        [Drama]|  The Fighting Heart|1925|\n",
      "|[Bob Reeves, Lew ...|      [Western]|       Fighting Luck|1925|\n",
      "|[Bill Cody, Jean ...|      [Western]|  The Fighting Smile|1925|\n",
      "|[William Haines, ...|        [Drama]| Fighting the Flames|1925|\n",
      "|[William Fairbank...|       [Action]|      Fighting Youth|1925|\n",
      "+--------------------+---------------+--------------------+----+\n",
      "only showing top 20 rows\n",
      "\n"
     ]
    }
   ],
   "source": [
    "# 6. Show the movies whose name contains the word “fighting” (case-insensitive). \n",
    "df.filter(f.lower(f.col('title')).contains('fighting')).show()"
   ]
  },
  {
   "cell_type": "code",
   "execution_count": 85,
   "metadata": {},
   "outputs": [
    {
     "name": "stdout",
     "output_type": "stream",
     "text": [
      "+-------------+\n",
      "|          col|\n",
      "+-------------+\n",
      "|        Crime|\n",
      "|      Romance|\n",
      "|     Thriller|\n",
      "|      Slasher|\n",
      "|Found Footage|\n",
      "|    Adventure|\n",
      "|         Teen|\n",
      "| Martial Arts|\n",
      "|       Sports|\n",
      "|        Drama|\n",
      "|          War|\n",
      "|  Documentary|\n",
      "|       Family|\n",
      "|      Fantasy|\n",
      "|       Silent|\n",
      "|     Disaster|\n",
      "|        Legal|\n",
      "|      Mystery|\n",
      "| Supernatural|\n",
      "|     Suspense|\n",
      "+-------------+\n",
      "only showing top 20 rows\n",
      "\n"
     ]
    }
   ],
   "source": [
    "# Show the list of distinct genres in the dataset.\n",
    "df.select(f.explode('genres')).distinct().show()"
   ]
  },
  {
   "cell_type": "code",
   "execution_count": 86,
   "metadata": {},
   "outputs": [],
   "source": [
    "# 8. List all movies in which the actor Harrison Ford has participated.\n",
    "# df2 = df.withColumn('individual cast', f.explode('cast'))\n",
    "\n",
    "# df2.filter(f.col('individual cast').contains('Harrison Ford')).show()"
   ]
  },
  {
   "cell_type": "code",
   "execution_count": 87,
   "metadata": {},
   "outputs": [
    {
     "name": "stdout",
     "output_type": "stream",
     "text": [
      "+--------------------+-----------------+--------------------+----+\n",
      "|                cast|           genres|               title|year|\n",
      "+--------------------+-----------------+--------------------+----+\n",
      "|[Constance Talmad...|[Romance, Comedy]|Experimental Marr...|1919|\n",
      "|[Constance Talmad...|         [Comedy]| Happiness a la Mode|1919|\n",
      "|[Constance Talmad...|         [Comedy]|Romance and Arabella|1919|\n",
      "|[Vivian Martin, H...|         [Comedy]|      The Third Kiss|1919|\n",
      "|[Harrison Ford, C...|         [Comedy]|The Veiled Adventure|1919|\n",
      "|[Constance Talmad...|         [Comedy]|          Who Cares?|1919|\n",
      "|[Vivian Martin, H...|          [Drama]|You Never Saw Suc...|1919|\n",
      "|[Norma Talmadge, ...|          [Drama]| The Wonderful Thing|1921|\n",
      "|[Alma Rubens, Har...|        [Mystery]|      Find the Woman|1922|\n",
      "|[Constance Talmad...|          [Drama]| The Primitive Lover|1922|\n",
      "|[Norma Talmadge, ...| [Romance, Drama]|     Smilin' Through|1922|\n",
      "|[Helen Jerome Edd...|          [Drama]|     When Love Comes|1922|\n",
      "|[Marion Davies, H...|     [Historical]| Little Old New York|1923|\n",
      "|[Madge Kennedy, H...|          [Drama]|     Three Miles Out|1924|\n",
      "|[Margaret Livings...|          [Drama]|           The Wheel|1925|\n",
      "|[Marie Prevost, H...|         [Comedy]|       Almost a Lady|1926|\n",
      "|[Harrison Ford, M...|          [Drama]| Hell's Four Hundred|1926|\n",
      "|[Harrison Ford, P...|         [Comedy]|   The Nervous Wreck|1926|\n",
      "|[Marie Prevost, H...|         [Comedy]|  Up in Mabel's Room|1926|\n",
      "|[Vera Reynolds, H...|         [Comedy]|         Golf Widows|1928|\n",
      "+--------------------+-----------------+--------------------+----+\n",
      "only showing top 20 rows\n",
      "\n"
     ]
    }
   ],
   "source": [
    "# 8. List all movies in which the actor Harrison Ford has participated.\n",
    "df.filter(f.array_contains('cast', 'Harrison Ford')).show()"
   ]
  },
  {
   "cell_type": "code",
   "execution_count": 88,
   "metadata": {},
   "outputs": [
    {
     "name": "stdout",
     "output_type": "stream",
     "text": [
      "+--------------------+-----------+--------------------+----+---------------+\n",
      "|                cast|     genres|               title|year|individual cast|\n",
      "+--------------------+-----------+--------------------+----+---------------+\n",
      "|[Charlotte Burton...|         []|       The Butterfly|1914|      Ida Lewis|\n",
      "|[Pearl White, She...|    [Drama]|The Exploits of E...|1914|  Sheldon Lewis|\n",
      "|[Charlotte Burton...|   [Comedy]| Mein Lieber Katrina|1914|      Ida Lewis|\n",
      "|[Norma Talmadge, ...|    [Drama]|      Going Straight|1916|    Ralph Lewis|\n",
      "|[Dorothy Gish, Ra...|    [Drama]|Gretchen the Gree...|1916|    Ralph Lewis|\n",
      "|[Ben Lewis, Bessi...|  [Western]|     A Sister of Six|1916|      Ben Lewis|\n",
      "|[Gail Kane, Lewis...|    [Drama]| The Bride's Silence|1917|  Lewis J. Cody|\n",
      "|    [Mitchell Lewis]|    [Drama]|Nine-Tenths of th...|1918| Mitchell Lewis|\n",
      "|[Mitchell Lewis, ...|    [Drama]|The Faith of the ...|1919| Mitchell Lewis|\n",
      "|[Mary Pickford, R...|   [Comedy]|         The Hoodlum|1919|    Ralph Lewis|\n",
      "|[Mitchell Lewis, ...|    [Drama]|Jacques of the Si...|1919| Mitchell Lewis|\n",
      "|[Mitchell Lewis, ...|    [Drama]|The Last of His P...|1919| Mitchell Lewis|\n",
      "|[Lewis Stone, Jan...|    [Drama]|        Man's Desire|1919|    Lewis Stone|\n",
      "|[Mary Miles Minte...|   [Comedy]|   Yvonne from Paris|1919|     Vera Lewis|\n",
      "|[Mitchell Lewis, ...|    [Drama]|Nine-Tenths of th...|1919| Mitchell Lewis|\n",
      "|[Wedgwood Nowell,...|  [Mystery]|                 813|1920|    Ralph Lewis|\n",
      "|[Lewis Sargent, W...|[Adventure]|    Huckleberry Finn|1920|  Lewis Sargent|\n",
      "|[Pauline Frederic...|    [Drama]|             Salvage|1921|    Ralph Lewis|\n",
      "|[Viola Dana, Ralp...|   [Comedy]|The Five Dollar Baby|1922|    Ralph Lewis|\n",
      "|[Estelle Taylor, ...|    [Drama]|    A Fool There Was|1922|    Lewis Stone|\n",
      "+--------------------+-----------+--------------------+----+---------------+\n",
      "only showing top 20 rows\n",
      "\n"
     ]
    }
   ],
   "source": [
    "# 9. List all movies in which the actors/actresses whose names include the word “Lewis“ (case-insensitive) have participated.\n",
    "df2 = df.withColumn('individual cast', f.explode('cast'))\n",
    "\n",
    "df2.filter(f.col('individual cast').contains('Lewis')).show()"
   ]
  },
  {
   "cell_type": "code",
   "execution_count": 89,
   "metadata": {},
   "outputs": [
    {
     "name": "stdout",
     "output_type": "stream",
     "text": [
      "+----------------+-----+\n",
      "| individual cast|count|\n",
      "+----------------+-----+\n",
      "|    Harold Lloyd|  190|\n",
      "|     Hoot Gibson|  142|\n",
      "|      John Wayne|  136|\n",
      "|Charles Starrett|  116|\n",
      "|    Bebe Daniels|  103|\n",
      "+----------------+-----+\n",
      "\n"
     ]
    }
   ],
   "source": [
    "# 10. Show top five actors/actresses that have participated in most movies.\n",
    "df2.groupBy('individual cast').count().sort('count', ascending=False).limit(5).show()"
   ]
  },
  {
   "attachments": {},
   "cell_type": "markdown",
   "metadata": {},
   "source": [
    "#### 4. Analyze the foodmart dataset to mine the set of frequent patterns and the set of association rules with min support of 0.1 and min confidence of 0.9"
   ]
  },
  {
   "cell_type": "code",
   "execution_count": 90,
   "metadata": {},
   "outputs": [],
   "source": [
    "df_csv = spark.read.csv('foodmart.csv', header=True, inferSchema=True)"
   ]
  },
  {
   "cell_type": "code",
   "execution_count": 91,
   "metadata": {},
   "outputs": [
    {
     "name": "stdout",
     "output_type": "stream",
     "text": [
      "+------------+---------+-------+--------------+------+---------+----+-------+-------+------------+-----------------+------+------+-----+---------+---------------+-----+--------+------+-------------+------------------+-----------+-------+-----------+--------------+--------+----------+-----------+-----------+----+------+-----------+----------+----+-----------------+---------------+------------+-------------+----------+--------------+-----------------+---+---------+----------+--------------+--------+---------+---------+---+-----+-----+----------+----+----+---------+-------+------------+----+-------+-----------+--------+------------+-----------+-----+-------------+----------------+-----+----------------+-------+---------+------------+-------------+-------------+---------+--------+----+--------+------+------------+-------+---------+------+------------+----+----+----------+------+-------+----------------+-----+----------+----+--------------+-----+------------+----+---------+-------+----+------+\n",
      "|Acetominifen|Anchovies|Aspirin|Auto Magazines|Bagels|Batteries|Beer|Bologna|Candles|Canned Fruit|Canned Vegetables|Cereal|Cheese|Chips|Chocolate|Chocolate Candy|Clams|Cleaners|Coffee|Cold Remedies|Computer Magazines|Conditioner|Cookies|Cooking Oil|Cottage Cheese|Crackers|Deli Meats|Deli Salads|Deodorizers|Dips|Donuts|Dried Fruit|Dried Meat|Eggs|Fashion Magazines|Flavored Drinks|French Fries|Fresh Chicken|Fresh Fish|Frozen Chicken|Frozen Vegetables|Gum|Hamburger|Hard Candy|Home Magazines|Hot Dogs|Ibuprofen|Ice Cream|Jam|Jelly|Juice|Lightbulbs|Maps|Milk|Mouthwash|Muffins|Nasal Sprays|Nuts|Oysters|Pancake Mix|Pancakes|Paper Dishes|Paper Wipes|Pasta|Peanut Butter|Personal Hygiene|Pizza|Plastic Utensils|Popcorn|Popsicles|Pot Cleaners|Pot Scrubbers|Pots and Pans|Preserves|Pretzels|Rice|Sardines|Sauces|Screwdrivers|Shampoo|Shellfish|Shrimp|Sliced Bread|Soda|Soup|Sour Cream|Spices|Sponges|Sports Magazines|Sugar|Sunglasses|Tofu|Toilet Brushes|Tools|Toothbrushes|Tuna|TV Dinner|Waffles|Wine|Yogurt|\n",
      "+------------+---------+-------+--------------+------+---------+----+-------+-------+------------+-----------------+------+------+-----+---------+---------------+-----+--------+------+-------------+------------------+-----------+-------+-----------+--------------+--------+----------+-----------+-----------+----+------+-----------+----------+----+-----------------+---------------+------------+-------------+----------+--------------+-----------------+---+---------+----------+--------------+--------+---------+---------+---+-----+-----+----------+----+----+---------+-------+------------+----+-------+-----------+--------+------------+-----------+-----+-------------+----------------+-----+----------------+-------+---------+------------+-------------+-------------+---------+--------+----+--------+------+------------+-------+---------+------+------------+----+----+----------+------+-------+----------------+-----+----------+----+--------------+-----+------------+----+---------+-------+----+------+\n",
      "|           1|        0|      0|             0|     0|        0|   0|      0|      0|           0|                0|     0|     1|    0|        0|              0|    0|       0|     0|            0|                 0|          0|      0|          0|             0|       0|         0|          0|          0|   0|     0|          0|         0|   0|                0|              0|           0|            0|         0|             0|                0|  0|        0|         0|             1|       0|        0|        0|  0|    0|    0|         0|   0|   0|        0|      0|           0|   0|      0|          0|       0|           0|          0|    0|            0|               0|    0|               0|      0|        0|           0|            0|            0|        0|       0|   0|       0|     0|           0|      1|        0|     0|           0|   0|   0|         0|     0|      0|               0|    0|         0|   0|             0|    0|           0|   0|        0|      0|   0|     0|\n",
      "|           1|        0|      0|             0|     0|        0|   0|      0|      0|           0|                0|     0|     1|    0|        0|              0|    0|       0|     0|            0|                 0|          0|      0|          0|             0|       0|         0|          0|          0|   0|     0|          0|         0|   0|                0|              0|           0|            0|         0|             0|                0|  0|        0|         1|             0|       0|        0|        0|  0|    0|    0|         0|   0|   1|        0|      0|           0|   0|      0|          0|       0|           0|          0|    0|            0|               0|    0|               0|      0|        0|           0|            1|            0|        0|       0|   1|       0|     0|           0|      0|        0|     0|           0|   0|   0|         0|     0|      0|               0|    0|         0|   0|             0|    0|           0|   0|        0|      0|   0|     0|\n",
      "|           0|        0|      0|             0|     0|        0|   0|      0|      0|           0|                0|     0|     0|    0|        0|              0|    0|       0|     1|            0|                 0|          0|      0|          0|             0|       0|         0|          1|          0|   0|     0|          0|         0|   0|                0|              0|           0|            0|         0|             0|                0|  0|        0|         0|             0|       0|        0|        0|  0|    0|    0|         0|   0|   0|        0|      0|           0|   0|      0|          0|       0|           0|          0|    0|            0|               0|    0|               0|      0|        0|           0|            0|            0|        0|       0|   0|       0|     0|           0|      0|        0|     0|           0|   0|   0|         0|     0|      0|               0|    0|         0|   0|             0|    0|           0|   0|        0|      0|   0|     0|\n",
      "|           0|        0|      0|             0|     0|        0|   0|      0|      0|           0|                0|     0|     0|    0|        0|              0|    0|       0|     0|            0|                 0|          0|      0|          0|             0|       0|         0|          0|          0|   0|     0|          0|         0|   1|                0|              0|           0|            0|         0|             0|                0|  1|        0|         0|             0|       0|        0|        0|  0|    0|    0|         0|   0|   1|        0|      0|           0|   0|      0|          0|       0|           0|          0|    0|            0|               0|    0|               0|      0|        0|           0|            0|            0|        0|       0|   0|       0|     0|           0|      0|        0|     0|           0|   0|   1|         0|     0|      0|               0|    0|         0|   0|             0|    0|           0|   0|        0|      0|   0|     0|\n",
      "|           0|        0|      0|             0|     0|        0|   0|      0|      0|           0|                0|     0|     1|    0|        0|              0|    0|       0|     0|            0|                 0|          0|      0|          0|             0|       0|         0|          0|          0|   0|     0|          1|         0|   0|                0|              0|           0|            0|         0|             1|                0|  0|        0|         0|             0|       0|        0|        0|  0|    0|    0|         0|   0|   0|        0|      0|           0|   0|      0|          0|       0|           0|          0|    0|            0|               0|    0|               1|      0|        0|           0|            0|            0|        0|       0|   0|       0|     0|           0|      0|        0|     0|           0|   0|   0|         0|     0|      0|               0|    0|         0|   0|             0|    0|           0|   0|        0|      0|   0|     0|\n",
      "|           0|        0|      0|             0|     0|        0|   0|      0|      0|           0|                0|     0|     0|    0|        0|              0|    0|       0|     0|            0|                 0|          0|      0|          0|             0|       0|         0|          0|          0|   0|     0|          0|         0|   0|                0|              0|           0|            0|         0|             0|                0|  0|        0|         0|             0|       0|        0|        0|  0|    0|    0|         0|   0|   0|        0|      0|           0|   0|      0|          0|       0|           0|          0|    0|            0|               0|    0|               0|      0|        0|           0|            0|            0|        0|       0|   0|       0|     0|           0|      1|        0|     0|           0|   0|   0|         0|     0|      0|               0|    0|         0|   0|             0|    0|           0|   0|        0|      0|   0|     0|\n",
      "|           0|        0|      0|             0|     0|        0|   0|      0|      0|           0|                0|     0|     0|    0|        0|              0|    0|       0|     0|            0|                 0|          0|      0|          0|             0|       0|         0|          0|          0|   0|     0|          0|         0|   0|                0|              0|           0|            0|         0|             0|                0|  0|        0|         0|             0|       0|        0|        0|  0|    0|    0|         0|   0|   1|        0|      0|           0|   0|      0|          0|       0|           0|          1|    0|            0|               0|    0|               0|      0|        0|           0|            0|            0|        0|       0|   0|       0|     0|           0|      0|        0|     0|           0|   0|   0|         0|     0|      0|               0|    0|         0|   0|             0|    0|           0|   0|        0|      1|   0|     0|\n",
      "|           0|        0|      0|             0|     0|        0|   0|      0|      0|           0|                0|     0|     0|    0|        0|              0|    0|       0|     0|            0|                 0|          0|      0|          0|             0|       0|         0|          0|          0|   0|     1|          1|         0|   0|                0|              0|           0|            0|         0|             1|                0|  0|        0|         0|             0|       0|        0|        0|  0|    0|    0|         0|   0|   0|        0|      0|           0|   0|      0|          0|       0|           0|          0|    0|            0|               0|    0|               0|      0|        0|           0|            0|            0|        0|       0|   0|       0|     0|           0|      0|        0|     0|           0|   0|   0|         0|     0|      0|               0|    0|         0|   0|             0|    0|           0|   0|        0|      0|   0|     0|\n",
      "|           0|        0|      0|             0|     0|        0|   0|      0|      0|           0|                0|     0|     0|    0|        0|              0|    0|       0|     0|            0|                 0|          0|      0|          1|             0|       0|         0|          0|          0|   0|     0|          0|         0|   0|                0|              0|           0|            0|         0|             0|                0|  0|        1|         0|             0|       0|        0|        0|  0|    0|    0|         0|   1|   0|        0|      0|           0|   0|      0|          0|       0|           0|          0|    0|            0|               0|    0|               0|      0|        1|           0|            0|            0|        0|       0|   0|       0|     0|           0|      0|        0|     0|           0|   0|   0|         0|     0|      0|               0|    0|         0|   0|             0|    0|           0|   0|        0|      0|   0|     0|\n",
      "|           0|        0|      0|             0|     0|        0|   0|      0|      0|           0|                0|     0|     1|    0|        0|              0|    0|       0|     0|            0|                 0|          0|      0|          1|             0|       0|         0|          0|          0|   1|     0|          0|         0|   0|                0|              0|           0|            0|         0|             0|                0|  0|        0|         0|             0|       0|        0|        0|  0|    0|    0|         0|   0|   0|        0|      0|           0|   0|      0|          0|       0|           0|          0|    0|            0|               0|    0|               0|      0|        0|           0|            0|            0|        1|       0|   0|       0|     0|           0|      0|        0|     0|           0|   0|   0|         0|     0|      0|               0|    0|         0|   0|             0|    0|           0|   0|        1|      0|   0|     0|\n",
      "|           0|        0|      0|             0|     0|        0|   0|      0|      0|           0|                0|     0|     0|    0|        0|              0|    0|       0|     0|            0|                 0|          0|      0|          0|             0|       0|         0|          0|          0|   0|     0|          0|         0|   0|                0|              0|           0|            0|         0|             0|                0|  0|        0|         0|             0|       0|        0|        0|  0|    0|    0|         0|   0|   0|        0|      0|           1|   0|      0|          0|       0|           0|          0|    0|            0|               0|    0|               0|      0|        0|           0|            0|            0|        0|       0|   0|       0|     0|           0|      0|        0|     0|           0|   0|   0|         0|     0|      0|               0|    0|         0|   0|             0|    0|           0|   0|        0|      0|   0|     0|\n",
      "|           0|        0|      0|             1|     0|        0|   0|      0|      0|           0|                0|     0|     0|    0|        0|              0|    0|       0|     0|            0|                 0|          0|      0|          0|             0|       0|         0|          0|          0|   0|     0|          0|         0|   0|                0|              0|           0|            1|         0|             1|                0|  0|        0|         0|             0|       0|        0|        0|  0|    0|    0|         0|   0|   0|        0|      0|           0|   0|      0|          1|       0|           0|          0|    0|            0|               0|    0|               0|      0|        0|           0|            0|            0|        0|       0|   0|       0|     0|           0|      0|        0|     0|           0|   0|   0|         0|     0|      0|               0|    0|         0|   0|             0|    0|           0|   0|        0|      1|   0|     0|\n",
      "|           0|        0|      0|             0|     0|        0|   0|      0|      0|           0|                0|     0|     0|    0|        0|              0|    0|       0|     0|            0|                 0|          0|      0|          0|             0|       0|         0|          0|          0|   0|     1|          1|         0|   0|                0|              0|           0|            0|         0|             0|                0|  0|        0|         0|             0|       0|        0|        0|  0|    0|    0|         0|   0|   0|        0|      0|           0|   0|      0|          0|       0|           0|          0|    0|            0|               0|    0|               0|      0|        0|           0|            0|            0|        0|       0|   0|       0|     0|           0|      0|        0|     0|           0|   0|   0|         0|     0|      0|               0|    0|         0|   0|             0|    0|           0|   0|        0|      1|   0|     0|\n",
      "|           0|        0|      0|             0|     0|        0|   0|      0|      0|           0|                0|     0|     1|    0|        0|              0|    0|       0|     0|            0|                 0|          0|      0|          0|             0|       0|         0|          0|          0|   0|     0|          0|         0|   0|                0|              0|           0|            0|         0|             0|                0|  0|        0|         0|             0|       0|        0|        0|  0|    0|    0|         1|   0|   0|        0|      0|           0|   0|      0|          0|       0|           0|          0|    0|            0|               0|    0|               0|      0|        0|           0|            0|            0|        0|       0|   0|       0|     0|           0|      1|        0|     0|           0|   0|   0|         0|     0|      0|               0|    0|         0|   0|             0|    0|           0|   0|        0|      0|   0|     0|\n",
      "|           0|        0|      0|             0|     0|        0|   0|      0|      0|           0|                0|     0|     0|    0|        0|              0|    0|       0|     0|            0|                 0|          0|      0|          1|             0|       0|         0|          0|          0|   0|     0|          0|         0|   1|                0|              0|           0|            0|         0|             0|                0|  0|        0|         0|             0|       0|        0|        0|  0|    0|    0|         0|   0|   0|        0|      0|           0|   0|      0|          0|       0|           0|          0|    1|            0|               0|    1|               0|      0|        0|           0|            0|            0|        0|       0|   0|       0|     1|           0|      0|        0|     0|           0|   0|   0|         0|     0|      0|               0|    0|         1|   0|             0|    1|           0|   0|        0|      0|   0|     0|\n",
      "|           0|        0|      0|             0|     0|        0|   0|      0|      0|           0|                0|     0|     0|    0|        0|              0|    0|       0|     0|            0|                 0|          0|      0|          0|             0|       0|         0|          0|          0|   0|     0|          0|         0|   0|                0|              1|           0|            0|         0|             0|                0|  0|        0|         0|             0|       0|        0|        0|  0|    0|    0|         0|   0|   0|        0|      0|           0|   0|      0|          0|       0|           0|          0|    0|            0|               0|    0|               0|      0|        0|           0|            0|            0|        0|       0|   0|       0|     0|           0|      0|        0|     0|           0|   1|   1|         0|     0|      0|               0|    0|         0|   0|             0|    0|           0|   0|        1|      0|   0|     0|\n",
      "|           0|        0|      0|             0|     0|        0|   0|      0|      0|           0|                0|     0|     0|    0|        0|              0|    0|       0|     0|            0|                 0|          0|      0|          0|             0|       0|         0|          0|          0|   0|     0|          0|         0|   0|                0|              0|           0|            0|         0|             0|                0|  0|        0|         0|             0|       0|        0|        0|  0|    0|    0|         0|   0|   0|        0|      0|           0|   0|      0|          0|       0|           0|          0|    0|            0|               0|    0|               0|      0|        0|           0|            0|            0|        0|       0|   0|       0|     0|           0|      0|        0|     0|           0|   0|   0|         0|     0|      0|               0|    0|         0|   0|             0|    0|           0|   1|        0|      0|   0|     0|\n",
      "|           0|        0|      0|             0|     0|        0|   0|      0|      0|           0|                0|     0|     0|    0|        0|              0|    0|       0|     1|            0|                 0|          0|      0|          0|             0|       0|         0|          0|          0|   0|     0|          0|         0|   0|                0|              0|           0|            0|         0|             0|                0|  0|        1|         1|             0|       0|        0|        0|  0|    0|    0|         0|   0|   0|        0|      0|           0|   0|      0|          0|       0|           0|          0|    0|            0|               0|    0|               0|      0|        0|           0|            0|            0|        0|       0|   0|       0|     0|           0|      0|        0|     0|           0|   1|   0|         0|     0|      0|               0|    0|         0|   0|             0|    0|           0|   0|        0|      0|   0|     0|\n",
      "|           0|        0|      0|             0|     0|        0|   0|      0|      0|           0|                0|     0|     0|    0|        0|              0|    0|       0|     0|            0|                 0|          0|      0|          0|             0|       0|         0|          0|          0|   0|     0|          0|         0|   0|                0|              0|           0|            0|         0|             0|                0|  0|        0|         0|             0|       0|        1|        0|  0|    0|    0|         0|   0|   0|        0|      0|           0|   0|      0|          0|       0|           0|          0|    0|            1|               0|    0|               1|      1|        0|           0|            0|            0|        0|       0|   0|       0|     0|           0|      0|        0|     0|           0|   0|   0|         0|     0|      0|               0|    0|         0|   0|             0|    0|           0|   0|        0|      0|   0|     0|\n",
      "|           0|        0|      0|             0|     0|        0|   0|      0|      0|           0|                0|     0|     0|    1|        0|              0|    0|       0|     0|            0|                 0|          0|      0|          0|             0|       0|         0|          0|          0|   0|     0|          0|         0|   0|                0|              0|           0|            0|         0|             0|                0|  0|        0|         0|             0|       0|        0|        0|  0|    0|    1|         1|   0|   0|        1|      1|           0|   0|      0|          0|       0|           0|          0|    0|            0|               1|    0|               0|      0|        0|           0|            0|            0|        0|       0|   0|       0|     0|           0|      0|        0|     0|           0|   0|   0|         0|     0|      0|               0|    0|         0|   0|             0|    0|           0|   0|        0|      0|   0|     0|\n",
      "+------------+---------+-------+--------------+------+---------+----+-------+-------+------------+-----------------+------+------+-----+---------+---------------+-----+--------+------+-------------+------------------+-----------+-------+-----------+--------------+--------+----------+-----------+-----------+----+------+-----------+----------+----+-----------------+---------------+------------+-------------+----------+--------------+-----------------+---+---------+----------+--------------+--------+---------+---------+---+-----+-----+----------+----+----+---------+-------+------------+----+-------+-----------+--------+------------+-----------+-----+-------------+----------------+-----+----------------+-------+---------+------------+-------------+-------------+---------+--------+----+--------+------+------------+-------+---------+------+------------+----+----+----------+------+-------+----------------+-----+----------+----+--------------+-----+------------+----+---------+-------+----+------+\n",
      "only showing top 20 rows\n",
      "\n"
     ]
    }
   ],
   "source": [
    "df_csv.show()"
   ]
  },
  {
   "cell_type": "code",
   "execution_count": 92,
   "metadata": {},
   "outputs": [
    {
     "name": "stdout",
     "output_type": "stream",
     "text": [
      "+------------+---------+-------+--------------+------+---------+----+-------+-------+------------+-----------------+------+------+-----+---------+---------------+-----+--------+------+-------------+------------------+-----------+-------+-----------+--------------+--------+----------+-----------+-----------+----+------+-----------+----------+----+-----------------+---------------+------------+-------------+----------+--------------+-----------------+---+---------+----------+--------------+--------+---------+---------+---+-----+-----+----------+----+----+---------+-------+------------+----+-------+-----------+--------+------------+-----------+-----+-------------+----------------+-----+----------------+-------+---------+------------+-------------+-------------+---------+--------+----+--------+------+------------+-------+---------+------+------------+----+----+----------+------+-------+----------------+-----+----------+----+--------------+-----+------------+----+---------+-------+----+------+---+\n",
      "|Acetominifen|Anchovies|Aspirin|Auto Magazines|Bagels|Batteries|Beer|Bologna|Candles|Canned Fruit|Canned Vegetables|Cereal|Cheese|Chips|Chocolate|Chocolate Candy|Clams|Cleaners|Coffee|Cold Remedies|Computer Magazines|Conditioner|Cookies|Cooking Oil|Cottage Cheese|Crackers|Deli Meats|Deli Salads|Deodorizers|Dips|Donuts|Dried Fruit|Dried Meat|Eggs|Fashion Magazines|Flavored Drinks|French Fries|Fresh Chicken|Fresh Fish|Frozen Chicken|Frozen Vegetables|Gum|Hamburger|Hard Candy|Home Magazines|Hot Dogs|Ibuprofen|Ice Cream|Jam|Jelly|Juice|Lightbulbs|Maps|Milk|Mouthwash|Muffins|Nasal Sprays|Nuts|Oysters|Pancake Mix|Pancakes|Paper Dishes|Paper Wipes|Pasta|Peanut Butter|Personal Hygiene|Pizza|Plastic Utensils|Popcorn|Popsicles|Pot Cleaners|Pot Scrubbers|Pots and Pans|Preserves|Pretzels|Rice|Sardines|Sauces|Screwdrivers|Shampoo|Shellfish|Shrimp|Sliced Bread|Soda|Soup|Sour Cream|Spices|Sponges|Sports Magazines|Sugar|Sunglasses|Tofu|Toilet Brushes|Tools|Toothbrushes|Tuna|TV Dinner|Waffles|Wine|Yogurt| ID|\n",
      "+------------+---------+-------+--------------+------+---------+----+-------+-------+------------+-----------------+------+------+-----+---------+---------------+-----+--------+------+-------------+------------------+-----------+-------+-----------+--------------+--------+----------+-----------+-----------+----+------+-----------+----------+----+-----------------+---------------+------------+-------------+----------+--------------+-----------------+---+---------+----------+--------------+--------+---------+---------+---+-----+-----+----------+----+----+---------+-------+------------+----+-------+-----------+--------+------------+-----------+-----+-------------+----------------+-----+----------------+-------+---------+------------+-------------+-------------+---------+--------+----+--------+------+------------+-------+---------+------+------------+----+----+----------+------+-------+----------------+-----+----------+----+--------------+-----+------------+----+---------+-------+----+------+---+\n",
      "|           1|        0|      0|             0|     0|        0|   0|      0|      0|           0|                0|     0|     1|    0|        0|              0|    0|       0|     0|            0|                 0|          0|      0|          0|             0|       0|         0|          0|          0|   0|     0|          0|         0|   0|                0|              0|           0|            0|         0|             0|                0|  0|        0|         0|             1|       0|        0|        0|  0|    0|    0|         0|   0|   0|        0|      0|           0|   0|      0|          0|       0|           0|          0|    0|            0|               0|    0|               0|      0|        0|           0|            0|            0|        0|       0|   0|       0|     0|           0|      1|        0|     0|           0|   0|   0|         0|     0|      0|               0|    0|         0|   0|             0|    0|           0|   0|        0|      0|   0|     0|  0|\n",
      "|           1|        0|      0|             0|     0|        0|   0|      0|      0|           0|                0|     0|     1|    0|        0|              0|    0|       0|     0|            0|                 0|          0|      0|          0|             0|       0|         0|          0|          0|   0|     0|          0|         0|   0|                0|              0|           0|            0|         0|             0|                0|  0|        0|         1|             0|       0|        0|        0|  0|    0|    0|         0|   0|   1|        0|      0|           0|   0|      0|          0|       0|           0|          0|    0|            0|               0|    0|               0|      0|        0|           0|            1|            0|        0|       0|   1|       0|     0|           0|      0|        0|     0|           0|   0|   0|         0|     0|      0|               0|    0|         0|   0|             0|    0|           0|   0|        0|      0|   0|     0|  1|\n",
      "|           0|        0|      0|             0|     0|        0|   0|      0|      0|           0|                0|     0|     0|    0|        0|              0|    0|       0|     1|            0|                 0|          0|      0|          0|             0|       0|         0|          1|          0|   0|     0|          0|         0|   0|                0|              0|           0|            0|         0|             0|                0|  0|        0|         0|             0|       0|        0|        0|  0|    0|    0|         0|   0|   0|        0|      0|           0|   0|      0|          0|       0|           0|          0|    0|            0|               0|    0|               0|      0|        0|           0|            0|            0|        0|       0|   0|       0|     0|           0|      0|        0|     0|           0|   0|   0|         0|     0|      0|               0|    0|         0|   0|             0|    0|           0|   0|        0|      0|   0|     0|  2|\n",
      "|           0|        0|      0|             0|     0|        0|   0|      0|      0|           0|                0|     0|     0|    0|        0|              0|    0|       0|     0|            0|                 0|          0|      0|          0|             0|       0|         0|          0|          0|   0|     0|          0|         0|   1|                0|              0|           0|            0|         0|             0|                0|  1|        0|         0|             0|       0|        0|        0|  0|    0|    0|         0|   0|   1|        0|      0|           0|   0|      0|          0|       0|           0|          0|    0|            0|               0|    0|               0|      0|        0|           0|            0|            0|        0|       0|   0|       0|     0|           0|      0|        0|     0|           0|   0|   1|         0|     0|      0|               0|    0|         0|   0|             0|    0|           0|   0|        0|      0|   0|     0|  3|\n",
      "|           0|        0|      0|             0|     0|        0|   0|      0|      0|           0|                0|     0|     1|    0|        0|              0|    0|       0|     0|            0|                 0|          0|      0|          0|             0|       0|         0|          0|          0|   0|     0|          1|         0|   0|                0|              0|           0|            0|         0|             1|                0|  0|        0|         0|             0|       0|        0|        0|  0|    0|    0|         0|   0|   0|        0|      0|           0|   0|      0|          0|       0|           0|          0|    0|            0|               0|    0|               1|      0|        0|           0|            0|            0|        0|       0|   0|       0|     0|           0|      0|        0|     0|           0|   0|   0|         0|     0|      0|               0|    0|         0|   0|             0|    0|           0|   0|        0|      0|   0|     0|  4|\n",
      "|           0|        0|      0|             0|     0|        0|   0|      0|      0|           0|                0|     0|     0|    0|        0|              0|    0|       0|     0|            0|                 0|          0|      0|          0|             0|       0|         0|          0|          0|   0|     0|          0|         0|   0|                0|              0|           0|            0|         0|             0|                0|  0|        0|         0|             0|       0|        0|        0|  0|    0|    0|         0|   0|   0|        0|      0|           0|   0|      0|          0|       0|           0|          0|    0|            0|               0|    0|               0|      0|        0|           0|            0|            0|        0|       0|   0|       0|     0|           0|      1|        0|     0|           0|   0|   0|         0|     0|      0|               0|    0|         0|   0|             0|    0|           0|   0|        0|      0|   0|     0|  5|\n",
      "|           0|        0|      0|             0|     0|        0|   0|      0|      0|           0|                0|     0|     0|    0|        0|              0|    0|       0|     0|            0|                 0|          0|      0|          0|             0|       0|         0|          0|          0|   0|     0|          0|         0|   0|                0|              0|           0|            0|         0|             0|                0|  0|        0|         0|             0|       0|        0|        0|  0|    0|    0|         0|   0|   1|        0|      0|           0|   0|      0|          0|       0|           0|          1|    0|            0|               0|    0|               0|      0|        0|           0|            0|            0|        0|       0|   0|       0|     0|           0|      0|        0|     0|           0|   0|   0|         0|     0|      0|               0|    0|         0|   0|             0|    0|           0|   0|        0|      1|   0|     0|  6|\n",
      "|           0|        0|      0|             0|     0|        0|   0|      0|      0|           0|                0|     0|     0|    0|        0|              0|    0|       0|     0|            0|                 0|          0|      0|          0|             0|       0|         0|          0|          0|   0|     1|          1|         0|   0|                0|              0|           0|            0|         0|             1|                0|  0|        0|         0|             0|       0|        0|        0|  0|    0|    0|         0|   0|   0|        0|      0|           0|   0|      0|          0|       0|           0|          0|    0|            0|               0|    0|               0|      0|        0|           0|            0|            0|        0|       0|   0|       0|     0|           0|      0|        0|     0|           0|   0|   0|         0|     0|      0|               0|    0|         0|   0|             0|    0|           0|   0|        0|      0|   0|     0|  7|\n",
      "|           0|        0|      0|             0|     0|        0|   0|      0|      0|           0|                0|     0|     0|    0|        0|              0|    0|       0|     0|            0|                 0|          0|      0|          1|             0|       0|         0|          0|          0|   0|     0|          0|         0|   0|                0|              0|           0|            0|         0|             0|                0|  0|        1|         0|             0|       0|        0|        0|  0|    0|    0|         0|   1|   0|        0|      0|           0|   0|      0|          0|       0|           0|          0|    0|            0|               0|    0|               0|      0|        1|           0|            0|            0|        0|       0|   0|       0|     0|           0|      0|        0|     0|           0|   0|   0|         0|     0|      0|               0|    0|         0|   0|             0|    0|           0|   0|        0|      0|   0|     0|  8|\n",
      "|           0|        0|      0|             0|     0|        0|   0|      0|      0|           0|                0|     0|     1|    0|        0|              0|    0|       0|     0|            0|                 0|          0|      0|          1|             0|       0|         0|          0|          0|   1|     0|          0|         0|   0|                0|              0|           0|            0|         0|             0|                0|  0|        0|         0|             0|       0|        0|        0|  0|    0|    0|         0|   0|   0|        0|      0|           0|   0|      0|          0|       0|           0|          0|    0|            0|               0|    0|               0|      0|        0|           0|            0|            0|        1|       0|   0|       0|     0|           0|      0|        0|     0|           0|   0|   0|         0|     0|      0|               0|    0|         0|   0|             0|    0|           0|   0|        1|      0|   0|     0|  9|\n",
      "|           0|        0|      0|             0|     0|        0|   0|      0|      0|           0|                0|     0|     0|    0|        0|              0|    0|       0|     0|            0|                 0|          0|      0|          0|             0|       0|         0|          0|          0|   0|     0|          0|         0|   0|                0|              0|           0|            0|         0|             0|                0|  0|        0|         0|             0|       0|        0|        0|  0|    0|    0|         0|   0|   0|        0|      0|           1|   0|      0|          0|       0|           0|          0|    0|            0|               0|    0|               0|      0|        0|           0|            0|            0|        0|       0|   0|       0|     0|           0|      0|        0|     0|           0|   0|   0|         0|     0|      0|               0|    0|         0|   0|             0|    0|           0|   0|        0|      0|   0|     0| 10|\n",
      "|           0|        0|      0|             1|     0|        0|   0|      0|      0|           0|                0|     0|     0|    0|        0|              0|    0|       0|     0|            0|                 0|          0|      0|          0|             0|       0|         0|          0|          0|   0|     0|          0|         0|   0|                0|              0|           0|            1|         0|             1|                0|  0|        0|         0|             0|       0|        0|        0|  0|    0|    0|         0|   0|   0|        0|      0|           0|   0|      0|          1|       0|           0|          0|    0|            0|               0|    0|               0|      0|        0|           0|            0|            0|        0|       0|   0|       0|     0|           0|      0|        0|     0|           0|   0|   0|         0|     0|      0|               0|    0|         0|   0|             0|    0|           0|   0|        0|      1|   0|     0| 11|\n",
      "|           0|        0|      0|             0|     0|        0|   0|      0|      0|           0|                0|     0|     0|    0|        0|              0|    0|       0|     0|            0|                 0|          0|      0|          0|             0|       0|         0|          0|          0|   0|     1|          1|         0|   0|                0|              0|           0|            0|         0|             0|                0|  0|        0|         0|             0|       0|        0|        0|  0|    0|    0|         0|   0|   0|        0|      0|           0|   0|      0|          0|       0|           0|          0|    0|            0|               0|    0|               0|      0|        0|           0|            0|            0|        0|       0|   0|       0|     0|           0|      0|        0|     0|           0|   0|   0|         0|     0|      0|               0|    0|         0|   0|             0|    0|           0|   0|        0|      1|   0|     0| 12|\n",
      "|           0|        0|      0|             0|     0|        0|   0|      0|      0|           0|                0|     0|     1|    0|        0|              0|    0|       0|     0|            0|                 0|          0|      0|          0|             0|       0|         0|          0|          0|   0|     0|          0|         0|   0|                0|              0|           0|            0|         0|             0|                0|  0|        0|         0|             0|       0|        0|        0|  0|    0|    0|         1|   0|   0|        0|      0|           0|   0|      0|          0|       0|           0|          0|    0|            0|               0|    0|               0|      0|        0|           0|            0|            0|        0|       0|   0|       0|     0|           0|      1|        0|     0|           0|   0|   0|         0|     0|      0|               0|    0|         0|   0|             0|    0|           0|   0|        0|      0|   0|     0| 13|\n",
      "|           0|        0|      0|             0|     0|        0|   0|      0|      0|           0|                0|     0|     0|    0|        0|              0|    0|       0|     0|            0|                 0|          0|      0|          1|             0|       0|         0|          0|          0|   0|     0|          0|         0|   1|                0|              0|           0|            0|         0|             0|                0|  0|        0|         0|             0|       0|        0|        0|  0|    0|    0|         0|   0|   0|        0|      0|           0|   0|      0|          0|       0|           0|          0|    1|            0|               0|    1|               0|      0|        0|           0|            0|            0|        0|       0|   0|       0|     1|           0|      0|        0|     0|           0|   0|   0|         0|     0|      0|               0|    0|         1|   0|             0|    1|           0|   0|        0|      0|   0|     0| 14|\n",
      "|           0|        0|      0|             0|     0|        0|   0|      0|      0|           0|                0|     0|     0|    0|        0|              0|    0|       0|     0|            0|                 0|          0|      0|          0|             0|       0|         0|          0|          0|   0|     0|          0|         0|   0|                0|              1|           0|            0|         0|             0|                0|  0|        0|         0|             0|       0|        0|        0|  0|    0|    0|         0|   0|   0|        0|      0|           0|   0|      0|          0|       0|           0|          0|    0|            0|               0|    0|               0|      0|        0|           0|            0|            0|        0|       0|   0|       0|     0|           0|      0|        0|     0|           0|   1|   1|         0|     0|      0|               0|    0|         0|   0|             0|    0|           0|   0|        1|      0|   0|     0| 15|\n",
      "|           0|        0|      0|             0|     0|        0|   0|      0|      0|           0|                0|     0|     0|    0|        0|              0|    0|       0|     0|            0|                 0|          0|      0|          0|             0|       0|         0|          0|          0|   0|     0|          0|         0|   0|                0|              0|           0|            0|         0|             0|                0|  0|        0|         0|             0|       0|        0|        0|  0|    0|    0|         0|   0|   0|        0|      0|           0|   0|      0|          0|       0|           0|          0|    0|            0|               0|    0|               0|      0|        0|           0|            0|            0|        0|       0|   0|       0|     0|           0|      0|        0|     0|           0|   0|   0|         0|     0|      0|               0|    0|         0|   0|             0|    0|           0|   1|        0|      0|   0|     0| 16|\n",
      "|           0|        0|      0|             0|     0|        0|   0|      0|      0|           0|                0|     0|     0|    0|        0|              0|    0|       0|     1|            0|                 0|          0|      0|          0|             0|       0|         0|          0|          0|   0|     0|          0|         0|   0|                0|              0|           0|            0|         0|             0|                0|  0|        1|         1|             0|       0|        0|        0|  0|    0|    0|         0|   0|   0|        0|      0|           0|   0|      0|          0|       0|           0|          0|    0|            0|               0|    0|               0|      0|        0|           0|            0|            0|        0|       0|   0|       0|     0|           0|      0|        0|     0|           0|   1|   0|         0|     0|      0|               0|    0|         0|   0|             0|    0|           0|   0|        0|      0|   0|     0| 17|\n",
      "|           0|        0|      0|             0|     0|        0|   0|      0|      0|           0|                0|     0|     0|    0|        0|              0|    0|       0|     0|            0|                 0|          0|      0|          0|             0|       0|         0|          0|          0|   0|     0|          0|         0|   0|                0|              0|           0|            0|         0|             0|                0|  0|        0|         0|             0|       0|        1|        0|  0|    0|    0|         0|   0|   0|        0|      0|           0|   0|      0|          0|       0|           0|          0|    0|            1|               0|    0|               1|      1|        0|           0|            0|            0|        0|       0|   0|       0|     0|           0|      0|        0|     0|           0|   0|   0|         0|     0|      0|               0|    0|         0|   0|             0|    0|           0|   0|        0|      0|   0|     0| 18|\n",
      "|           0|        0|      0|             0|     0|        0|   0|      0|      0|           0|                0|     0|     0|    1|        0|              0|    0|       0|     0|            0|                 0|          0|      0|          0|             0|       0|         0|          0|          0|   0|     0|          0|         0|   0|                0|              0|           0|            0|         0|             0|                0|  0|        0|         0|             0|       0|        0|        0|  0|    0|    1|         1|   0|   0|        1|      1|           0|   0|      0|          0|       0|           0|          0|    0|            0|               1|    0|               0|      0|        0|           0|            0|            0|        0|       0|   0|       0|     0|           0|      0|        0|     0|           0|   0|   0|         0|     0|      0|               0|    0|         0|   0|             0|    0|           0|   0|        0|      0|   0|     0| 19|\n",
      "+------------+---------+-------+--------------+------+---------+----+-------+-------+------------+-----------------+------+------+-----+---------+---------------+-----+--------+------+-------------+------------------+-----------+-------+-----------+--------------+--------+----------+-----------+-----------+----+------+-----------+----------+----+-----------------+---------------+------------+-------------+----------+--------------+-----------------+---+---------+----------+--------------+--------+---------+---------+---+-----+-----+----------+----+----+---------+-------+------------+----+-------+-----------+--------+------------+-----------+-----+-------------+----------------+-----+----------------+-------+---------+------------+-------------+-------------+---------+--------+----+--------+------+------------+-------+---------+------+------------+----+----+----------+------+-------+----------------+-----+----------+----+--------------+-----+------------+----+---------+-------+----+------+---+\n",
      "only showing top 20 rows\n",
      "\n"
     ]
    }
   ],
   "source": [
    "# create a new dataframe have 2 columns: ID, list of items that values in dataset is 1\n",
    "df2 = df_csv.withColumn(\"ID\", f.monotonically_increasing_id())\n",
    "df2.show()"
   ]
  },
  {
   "cell_type": "code",
   "execution_count": 113,
   "metadata": {},
   "outputs": [
    {
     "name": "stdout",
     "output_type": "stream",
     "text": [
      "+--------------------+\n",
      "|               items|\n",
      "+--------------------+\n",
      "|[Acetominifen, nu...|\n",
      "|[Acetominifen, nu...|\n",
      "|[null, null, null...|\n",
      "|[null, null, null...|\n",
      "|[null, null, null...|\n",
      "|[null, null, null...|\n",
      "|[null, null, null...|\n",
      "|[null, null, null...|\n",
      "|[null, null, null...|\n",
      "|[null, null, null...|\n",
      "|[null, null, null...|\n",
      "|[null, null, null...|\n",
      "|[null, null, null...|\n",
      "|[null, null, null...|\n",
      "|[null, null, null...|\n",
      "|[null, null, null...|\n",
      "|[null, null, null...|\n",
      "|[null, null, null...|\n",
      "|[null, null, null...|\n",
      "|[null, null, null...|\n",
      "+--------------------+\n",
      "only showing top 20 rows\n",
      "\n"
     ]
    }
   ],
   "source": [
    "# create a new dataframe have 2 columns: ID, list of items that values in dataset is 1\n",
    "df3 = df2.withColumn('items', f.array([f.when(f.col(c) == 1, c) for c in df2.columns]))\n",
    "df3.select(\"items\").show()"
   ]
  },
  {
   "cell_type": "code",
   "execution_count": 94,
   "metadata": {},
   "outputs": [
    {
     "name": "stdout",
     "output_type": "stream",
     "text": [
      "+------------+---------+-------+--------------+------+---------+----+-------+-------+------------+-----------------+------+------+-----+---------+---------------+-----+--------+------+-------------+------------------+-----------+-------+-----------+--------------+--------+----------+-----------+-----------+----+------+-----------+----------+----+-----------------+---------------+------------+-------------+----------+--------------+-----------------+---+---------+----------+--------------+--------+---------+---------+---+-----+-----+----------+----+----+---------+-------+------------+----+-------+-----------+--------+------------+-----------+-----+-------------+----------------+-----+----------------+-------+---------+------------+-------------+-------------+---------+--------+----+--------+------+------------+-------+---------+------+------------+----+----+----------+------+-------+----------------+-----+----------+----+--------------+-----+------------+----+---------+-------+----+------+---+--------------------+\n",
      "|Acetominifen|Anchovies|Aspirin|Auto Magazines|Bagels|Batteries|Beer|Bologna|Candles|Canned Fruit|Canned Vegetables|Cereal|Cheese|Chips|Chocolate|Chocolate Candy|Clams|Cleaners|Coffee|Cold Remedies|Computer Magazines|Conditioner|Cookies|Cooking Oil|Cottage Cheese|Crackers|Deli Meats|Deli Salads|Deodorizers|Dips|Donuts|Dried Fruit|Dried Meat|Eggs|Fashion Magazines|Flavored Drinks|French Fries|Fresh Chicken|Fresh Fish|Frozen Chicken|Frozen Vegetables|Gum|Hamburger|Hard Candy|Home Magazines|Hot Dogs|Ibuprofen|Ice Cream|Jam|Jelly|Juice|Lightbulbs|Maps|Milk|Mouthwash|Muffins|Nasal Sprays|Nuts|Oysters|Pancake Mix|Pancakes|Paper Dishes|Paper Wipes|Pasta|Peanut Butter|Personal Hygiene|Pizza|Plastic Utensils|Popcorn|Popsicles|Pot Cleaners|Pot Scrubbers|Pots and Pans|Preserves|Pretzels|Rice|Sardines|Sauces|Screwdrivers|Shampoo|Shellfish|Shrimp|Sliced Bread|Soda|Soup|Sour Cream|Spices|Sponges|Sports Magazines|Sugar|Sunglasses|Tofu|Toilet Brushes|Tools|Toothbrushes|Tuna|TV Dinner|Waffles|Wine|Yogurt| ID|               items|\n",
      "+------------+---------+-------+--------------+------+---------+----+-------+-------+------------+-----------------+------+------+-----+---------+---------------+-----+--------+------+-------------+------------------+-----------+-------+-----------+--------------+--------+----------+-----------+-----------+----+------+-----------+----------+----+-----------------+---------------+------------+-------------+----------+--------------+-----------------+---+---------+----------+--------------+--------+---------+---------+---+-----+-----+----------+----+----+---------+-------+------------+----+-------+-----------+--------+------------+-----------+-----+-------------+----------------+-----+----------------+-------+---------+------------+-------------+-------------+---------+--------+----+--------+------+------------+-------+---------+------+------------+----+----+----------+------+-------+----------------+-----+----------+----+--------------+-----+------------+----+---------+-------+----+------+---+--------------------+\n",
      "|           1|        0|      0|             0|     0|        0|   0|      0|      0|           0|                0|     0|     1|    0|        0|              0|    0|       0|     0|            0|                 0|          0|      0|          0|             0|       0|         0|          0|          0|   0|     0|          0|         0|   0|                0|              0|           0|            0|         0|             0|                0|  0|        0|         0|             1|       0|        0|        0|  0|    0|    0|         0|   0|   0|        0|      0|           0|   0|      0|          0|       0|           0|          0|    0|            0|               0|    0|               0|      0|        0|           0|            0|            0|        0|       0|   0|       0|     0|           0|      1|        0|     0|           0|   0|   0|         0|     0|      0|               0|    0|         0|   0|             0|    0|           0|   0|        0|      0|   0|     0|  0|[Acetominifen, Ch...|\n",
      "|           1|        0|      0|             0|     0|        0|   0|      0|      0|           0|                0|     0|     1|    0|        0|              0|    0|       0|     0|            0|                 0|          0|      0|          0|             0|       0|         0|          0|          0|   0|     0|          0|         0|   0|                0|              0|           0|            0|         0|             0|                0|  0|        0|         1|             0|       0|        0|        0|  0|    0|    0|         0|   0|   1|        0|      0|           0|   0|      0|          0|       0|           0|          0|    0|            0|               0|    0|               0|      0|        0|           0|            1|            0|        0|       0|   1|       0|     0|           0|      0|        0|     0|           0|   0|   0|         0|     0|      0|               0|    0|         0|   0|             0|    0|           0|   0|        0|      0|   0|     0|  1|[Acetominifen, Ch...|\n",
      "|           0|        0|      0|             0|     0|        0|   0|      0|      0|           0|                0|     0|     0|    0|        0|              0|    0|       0|     1|            0|                 0|          0|      0|          0|             0|       0|         0|          1|          0|   0|     0|          0|         0|   0|                0|              0|           0|            0|         0|             0|                0|  0|        0|         0|             0|       0|        0|        0|  0|    0|    0|         0|   0|   0|        0|      0|           0|   0|      0|          0|       0|           0|          0|    0|            0|               0|    0|               0|      0|        0|           0|            0|            0|        0|       0|   0|       0|     0|           0|      0|        0|     0|           0|   0|   0|         0|     0|      0|               0|    0|         0|   0|             0|    0|           0|   0|        0|      0|   0|     0|  2|[Coffee, Deli Sal...|\n",
      "|           0|        0|      0|             0|     0|        0|   0|      0|      0|           0|                0|     0|     0|    0|        0|              0|    0|       0|     0|            0|                 0|          0|      0|          0|             0|       0|         0|          0|          0|   0|     0|          0|         0|   1|                0|              0|           0|            0|         0|             0|                0|  1|        0|         0|             0|       0|        0|        0|  0|    0|    0|         0|   0|   1|        0|      0|           0|   0|      0|          0|       0|           0|          0|    0|            0|               0|    0|               0|      0|        0|           0|            0|            0|        0|       0|   0|       0|     0|           0|      0|        0|     0|           0|   0|   1|         0|     0|      0|               0|    0|         0|   0|             0|    0|           0|   0|        0|      0|   0|     0|  3|[Eggs, Gum, Milk,...|\n",
      "|           0|        0|      0|             0|     0|        0|   0|      0|      0|           0|                0|     0|     1|    0|        0|              0|    0|       0|     0|            0|                 0|          0|      0|          0|             0|       0|         0|          0|          0|   0|     0|          1|         0|   0|                0|              0|           0|            0|         0|             1|                0|  0|        0|         0|             0|       0|        0|        0|  0|    0|    0|         0|   0|   0|        0|      0|           0|   0|      0|          0|       0|           0|          0|    0|            0|               0|    0|               1|      0|        0|           0|            0|            0|        0|       0|   0|       0|     0|           0|      0|        0|     0|           0|   0|   0|         0|     0|      0|               0|    0|         0|   0|             0|    0|           0|   0|        0|      0|   0|     0|  4|[Cheese, Dried Fr...|\n",
      "|           0|        0|      0|             0|     0|        0|   0|      0|      0|           0|                0|     0|     0|    0|        0|              0|    0|       0|     0|            0|                 0|          0|      0|          0|             0|       0|         0|          0|          0|   0|     0|          0|         0|   0|                0|              0|           0|            0|         0|             0|                0|  0|        0|         0|             0|       0|        0|        0|  0|    0|    0|         0|   0|   0|        0|      0|           0|   0|      0|          0|       0|           0|          0|    0|            0|               0|    0|               0|      0|        0|           0|            0|            0|        0|       0|   0|       0|     0|           0|      1|        0|     0|           0|   0|   0|         0|     0|      0|               0|    0|         0|   0|             0|    0|           0|   0|        0|      0|   0|     0|  5|           [Shampoo]|\n",
      "|           0|        0|      0|             0|     0|        0|   0|      0|      0|           0|                0|     0|     0|    0|        0|              0|    0|       0|     0|            0|                 0|          0|      0|          0|             0|       0|         0|          0|          0|   0|     0|          0|         0|   0|                0|              0|           0|            0|         0|             0|                0|  0|        0|         0|             0|       0|        0|        0|  0|    0|    0|         0|   0|   1|        0|      0|           0|   0|      0|          0|       0|           0|          1|    0|            0|               0|    0|               0|      0|        0|           0|            0|            0|        0|       0|   0|       0|     0|           0|      0|        0|     0|           0|   0|   0|         0|     0|      0|               0|    0|         0|   0|             0|    0|           0|   0|        0|      1|   0|     0|  6|[Milk, Paper Wipe...|\n",
      "|           0|        0|      0|             0|     0|        0|   0|      0|      0|           0|                0|     0|     0|    0|        0|              0|    0|       0|     0|            0|                 0|          0|      0|          0|             0|       0|         0|          0|          0|   0|     1|          1|         0|   0|                0|              0|           0|            0|         0|             1|                0|  0|        0|         0|             0|       0|        0|        0|  0|    0|    0|         0|   0|   0|        0|      0|           0|   0|      0|          0|       0|           0|          0|    0|            0|               0|    0|               0|      0|        0|           0|            0|            0|        0|       0|   0|       0|     0|           0|      0|        0|     0|           0|   0|   0|         0|     0|      0|               0|    0|         0|   0|             0|    0|           0|   0|        0|      0|   0|     0|  7|[Donuts, Dried Fr...|\n",
      "|           0|        0|      0|             0|     0|        0|   0|      0|      0|           0|                0|     0|     0|    0|        0|              0|    0|       0|     0|            0|                 0|          0|      0|          1|             0|       0|         0|          0|          0|   0|     0|          0|         0|   0|                0|              0|           0|            0|         0|             0|                0|  0|        1|         0|             0|       0|        0|        0|  0|    0|    0|         0|   1|   0|        0|      0|           0|   0|      0|          0|       0|           0|          0|    0|            0|               0|    0|               0|      0|        1|           0|            0|            0|        0|       0|   0|       0|     0|           0|      0|        0|     0|           0|   0|   0|         0|     0|      0|               0|    0|         0|   0|             0|    0|           0|   0|        0|      0|   0|     0|  8|[Cooking Oil, Ham...|\n",
      "|           0|        0|      0|             0|     0|        0|   0|      0|      0|           0|                0|     0|     1|    0|        0|              0|    0|       0|     0|            0|                 0|          0|      0|          1|             0|       0|         0|          0|          0|   1|     0|          0|         0|   0|                0|              0|           0|            0|         0|             0|                0|  0|        0|         0|             0|       0|        0|        0|  0|    0|    0|         0|   0|   0|        0|      0|           0|   0|      0|          0|       0|           0|          0|    0|            0|               0|    0|               0|      0|        0|           0|            0|            0|        1|       0|   0|       0|     0|           0|      0|        0|     0|           0|   0|   0|         0|     0|      0|               0|    0|         0|   0|             0|    0|           0|   0|        1|      0|   0|     0|  9|[Cheese, Cooking ...|\n",
      "|           0|        0|      0|             0|     0|        0|   0|      0|      0|           0|                0|     0|     0|    0|        0|              0|    0|       0|     0|            0|                 0|          0|      0|          0|             0|       0|         0|          0|          0|   0|     0|          0|         0|   0|                0|              0|           0|            0|         0|             0|                0|  0|        0|         0|             0|       0|        0|        0|  0|    0|    0|         0|   0|   0|        0|      0|           1|   0|      0|          0|       0|           0|          0|    0|            0|               0|    0|               0|      0|        0|           0|            0|            0|        0|       0|   0|       0|     0|           0|      0|        0|     0|           0|   0|   0|         0|     0|      0|               0|    0|         0|   0|             0|    0|           0|   0|        0|      0|   0|     0| 10|      [Nasal Sprays]|\n",
      "|           0|        0|      0|             1|     0|        0|   0|      0|      0|           0|                0|     0|     0|    0|        0|              0|    0|       0|     0|            0|                 0|          0|      0|          0|             0|       0|         0|          0|          0|   0|     0|          0|         0|   0|                0|              0|           0|            1|         0|             1|                0|  0|        0|         0|             0|       0|        0|        0|  0|    0|    0|         0|   0|   0|        0|      0|           0|   0|      0|          1|       0|           0|          0|    0|            0|               0|    0|               0|      0|        0|           0|            0|            0|        0|       0|   0|       0|     0|           0|      0|        0|     0|           0|   0|   0|         0|     0|      0|               0|    0|         0|   0|             0|    0|           0|   0|        0|      1|   0|     0| 11|[Auto Magazines, ...|\n",
      "|           0|        0|      0|             0|     0|        0|   0|      0|      0|           0|                0|     0|     0|    0|        0|              0|    0|       0|     0|            0|                 0|          0|      0|          0|             0|       0|         0|          0|          0|   0|     1|          1|         0|   0|                0|              0|           0|            0|         0|             0|                0|  0|        0|         0|             0|       0|        0|        0|  0|    0|    0|         0|   0|   0|        0|      0|           0|   0|      0|          0|       0|           0|          0|    0|            0|               0|    0|               0|      0|        0|           0|            0|            0|        0|       0|   0|       0|     0|           0|      0|        0|     0|           0|   0|   0|         0|     0|      0|               0|    0|         0|   0|             0|    0|           0|   0|        0|      1|   0|     0| 12|[Donuts, Dried Fr...|\n",
      "|           0|        0|      0|             0|     0|        0|   0|      0|      0|           0|                0|     0|     1|    0|        0|              0|    0|       0|     0|            0|                 0|          0|      0|          0|             0|       0|         0|          0|          0|   0|     0|          0|         0|   0|                0|              0|           0|            0|         0|             0|                0|  0|        0|         0|             0|       0|        0|        0|  0|    0|    0|         1|   0|   0|        0|      0|           0|   0|      0|          0|       0|           0|          0|    0|            0|               0|    0|               0|      0|        0|           0|            0|            0|        0|       0|   0|       0|     0|           0|      1|        0|     0|           0|   0|   0|         0|     0|      0|               0|    0|         0|   0|             0|    0|           0|   0|        0|      0|   0|     0| 13|[Cheese, Lightbul...|\n",
      "|           0|        0|      0|             0|     0|        0|   0|      0|      0|           0|                0|     0|     0|    0|        0|              0|    0|       0|     0|            0|                 0|          0|      0|          1|             0|       0|         0|          0|          0|   0|     0|          0|         0|   1|                0|              0|           0|            0|         0|             0|                0|  0|        0|         0|             0|       0|        0|        0|  0|    0|    0|         0|   0|   0|        0|      0|           0|   0|      0|          0|       0|           0|          0|    1|            0|               0|    1|               0|      0|        0|           0|            0|            0|        0|       0|   0|       0|     1|           0|      0|        0|     0|           0|   0|   0|         0|     0|      0|               0|    0|         1|   0|             0|    1|           0|   0|        0|      0|   0|     0| 14|[Cooking Oil, Egg...|\n",
      "|           0|        0|      0|             0|     0|        0|   0|      0|      0|           0|                0|     0|     0|    0|        0|              0|    0|       0|     0|            0|                 0|          0|      0|          0|             0|       0|         0|          0|          0|   0|     0|          0|         0|   0|                0|              1|           0|            0|         0|             0|                0|  0|        0|         0|             0|       0|        0|        0|  0|    0|    0|         0|   0|   0|        0|      0|           0|   0|      0|          0|       0|           0|          0|    0|            0|               0|    0|               0|      0|        0|           0|            0|            0|        0|       0|   0|       0|     0|           0|      0|        0|     0|           0|   1|   1|         0|     0|      0|               0|    0|         0|   0|             0|    0|           0|   0|        1|      0|   0|     0| 15|[Flavored Drinks,...|\n",
      "|           0|        0|      0|             0|     0|        0|   0|      0|      0|           0|                0|     0|     0|    0|        0|              0|    0|       0|     0|            0|                 0|          0|      0|          0|             0|       0|         0|          0|          0|   0|     0|          0|         0|   0|                0|              0|           0|            0|         0|             0|                0|  0|        0|         0|             0|       0|        0|        0|  0|    0|    0|         0|   0|   0|        0|      0|           0|   0|      0|          0|       0|           0|          0|    0|            0|               0|    0|               0|      0|        0|           0|            0|            0|        0|       0|   0|       0|     0|           0|      0|        0|     0|           0|   0|   0|         0|     0|      0|               0|    0|         0|   0|             0|    0|           0|   1|        0|      0|   0|     0| 16|              [Tuna]|\n",
      "|           0|        0|      0|             0|     0|        0|   0|      0|      0|           0|                0|     0|     0|    0|        0|              0|    0|       0|     1|            0|                 0|          0|      0|          0|             0|       0|         0|          0|          0|   0|     0|          0|         0|   0|                0|              0|           0|            0|         0|             0|                0|  0|        1|         1|             0|       0|        0|        0|  0|    0|    0|         0|   0|   0|        0|      0|           0|   0|      0|          0|       0|           0|          0|    0|            0|               0|    0|               0|      0|        0|           0|            0|            0|        0|       0|   0|       0|     0|           0|      0|        0|     0|           0|   1|   0|         0|     0|      0|               0|    0|         0|   0|             0|    0|           0|   0|        0|      0|   0|     0| 17|[Coffee, Hamburge...|\n",
      "|           0|        0|      0|             0|     0|        0|   0|      0|      0|           0|                0|     0|     0|    0|        0|              0|    0|       0|     0|            0|                 0|          0|      0|          0|             0|       0|         0|          0|          0|   0|     0|          0|         0|   0|                0|              0|           0|            0|         0|             0|                0|  0|        0|         0|             0|       0|        1|        0|  0|    0|    0|         0|   0|   0|        0|      0|           0|   0|      0|          0|       0|           0|          0|    0|            1|               0|    0|               1|      1|        0|           0|            0|            0|        0|       0|   0|       0|     0|           0|      0|        0|     0|           0|   0|   0|         0|     0|      0|               0|    0|         0|   0|             0|    0|           0|   0|        0|      0|   0|     0| 18|[Ibuprofen, Peanu...|\n",
      "|           0|        0|      0|             0|     0|        0|   0|      0|      0|           0|                0|     0|     0|    1|        0|              0|    0|       0|     0|            0|                 0|          0|      0|          0|             0|       0|         0|          0|          0|   0|     0|          0|         0|   0|                0|              0|           0|            0|         0|             0|                0|  0|        0|         0|             0|       0|        0|        0|  0|    0|    1|         1|   0|   0|        1|      1|           0|   0|      0|          0|       0|           0|          0|    0|            0|               1|    0|               0|      0|        0|           0|            0|            0|        0|       0|   0|       0|     0|           0|      0|        0|     0|           0|   0|   0|         0|     0|      0|               0|    0|         0|   0|             0|    0|           0|   0|        0|      0|   0|     0| 19|[Chips, Juice, Li...|\n",
      "+------------+---------+-------+--------------+------+---------+----+-------+-------+------------+-----------------+------+------+-----+---------+---------------+-----+--------+------+-------------+------------------+-----------+-------+-----------+--------------+--------+----------+-----------+-----------+----+------+-----------+----------+----+-----------------+---------------+------------+-------------+----------+--------------+-----------------+---+---------+----------+--------------+--------+---------+---------+---+-----+-----+----------+----+----+---------+-------+------------+----+-------+-----------+--------+------------+-----------+-----+-------------+----------------+-----+----------------+-------+---------+------------+-------------+-------------+---------+--------+----+--------+------+------------+-------+---------+------+------------+----+----+----------+------+-------+----------------+-----+----------+----+--------------+-----+------------+----+---------+-------+----+------+---+--------------------+\n",
      "only showing top 20 rows\n",
      "\n"
     ]
    }
   ],
   "source": [
    "# remove null values in items column\n",
    "df3 = df3.withColumn('items', f.expr('filter(items, x -> x is not null)'))\n",
    "df3.select(\"items\").show()"
   ]
  },
  {
   "cell_type": "code",
   "execution_count": 95,
   "metadata": {},
   "outputs": [
    {
     "name": "stdout",
     "output_type": "stream",
     "text": [
      "+---+--------------------+\n",
      "| ID|               items|\n",
      "+---+--------------------+\n",
      "|  0|[Acetominifen, Ch...|\n",
      "|  1|[Acetominifen, Ch...|\n",
      "|  2|[Coffee, Deli Sal...|\n",
      "|  3|[Eggs, Gum, Milk,...|\n",
      "|  4|[Cheese, Dried Fr...|\n",
      "|  5|           [Shampoo]|\n",
      "|  6|[Milk, Paper Wipe...|\n",
      "|  7|[Donuts, Dried Fr...|\n",
      "|  8|[Cooking Oil, Ham...|\n",
      "|  9|[Cheese, Cooking ...|\n",
      "| 10|      [Nasal Sprays]|\n",
      "| 11|[Auto Magazines, ...|\n",
      "| 12|[Donuts, Dried Fr...|\n",
      "| 13|[Cheese, Lightbul...|\n",
      "| 14|[Cooking Oil, Egg...|\n",
      "| 15|[Flavored Drinks,...|\n",
      "| 16|              [Tuna]|\n",
      "| 17|[Coffee, Hamburge...|\n",
      "| 18|[Ibuprofen, Peanu...|\n",
      "| 19|[Chips, Juice, Li...|\n",
      "+---+--------------------+\n",
      "only showing top 20 rows\n",
      "\n"
     ]
    }
   ],
   "source": [
    "# get 2 columns: ID, items\n",
    "df3 = df3.select('ID', 'items')\n",
    "df3.show()"
   ]
  },
  {
   "cell_type": "code",
   "execution_count": 99,
   "metadata": {},
   "outputs": [],
   "source": [
    "# df3.select(f.explode('items')).distinct().show()"
   ]
  },
  {
   "cell_type": "code",
   "execution_count": 111,
   "metadata": {},
   "outputs": [
    {
     "name": "stdout",
     "output_type": "stream",
     "text": [
      "+-------------------+----+\n",
      "|              items|freq|\n",
      "+-------------------+----+\n",
      "|     [Acetominifen]|  31|\n",
      "|        [Anchovies]|  33|\n",
      "|          [Aspirin]|  66|\n",
      "|   [Auto Magazines]|  33|\n",
      "|           [Bagels]|  28|\n",
      "|        [Batteries]| 119|\n",
      "|[Batteries, Cheese]|  25|\n",
      "|             [Beer]|  64|\n",
      "|          [Bologna]|  97|\n",
      "|          [Candles]|  26|\n",
      "+-------------------+----+\n",
      "only showing top 10 rows\n",
      "\n",
      "+------------+-------------+-------------------+------------------+--------------------+\n",
      "|  antecedent|   consequent|         confidence|              lift|             support|\n",
      "+------------+-------------+-------------------+------------------+--------------------+\n",
      "|[Lightbulbs]|[Dried Fruit]|                0.2|1.6617187500000001|0.011283497884344146|\n",
      "| [Batteries]|     [Cheese]|0.21008403361344538|1.5678903140203448|0.011753643629525154|\n",
      "|    [Cereal]|       [Soup]|              0.232|1.7623714285714287|0.013634226610249177|\n",
      "|     [Juice]|       [Soup]|0.20353982300884957|1.5461757269279395|0.010813352139163141|\n",
      "+------------+-------------+-------------------+------------------+--------------------+\n",
      "\n"
     ]
    }
   ],
   "source": [
    "# min support = 0.1 and min confident = 0.9\n",
    "\n",
    "from pyspark.ml.fpm import FPGrowth\n",
    "\n",
    "fpGrowth = FPGrowth(itemsCol=\"items\", minSupport=0.01, minConfidence=0.2)\n",
    "model = fpGrowth.fit(df3)\n",
    "\n",
    "# Display frequent itemsets.\n",
    "model.freqItemsets.sort('items').show(10)\n",
    "\n",
    "# Display the set of association rules.\n",
    "model.associationRules.show(5)\n"
   ]
  },
  {
   "cell_type": "code",
   "execution_count": null,
   "metadata": {},
   "outputs": [],
   "source": []
  }
 ],
 "metadata": {
  "kernelspec": {
   "display_name": "base",
   "language": "python",
   "name": "python3"
  },
  "language_info": {
   "codemirror_mode": {
    "name": "ipython",
    "version": 3
   },
   "file_extension": ".py",
   "mimetype": "text/x-python",
   "name": "python",
   "nbconvert_exporter": "python",
   "pygments_lexer": "ipython3",
   "version": "3.8.8"
  },
  "orig_nbformat": 4
 },
 "nbformat": 4,
 "nbformat_minor": 2
}
