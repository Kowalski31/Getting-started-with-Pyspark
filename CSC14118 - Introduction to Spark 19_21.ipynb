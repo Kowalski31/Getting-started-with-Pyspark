{
 "cells": [
  {
   "cell_type": "code",
   "execution_count": 1,
   "metadata": {},
   "outputs": [],
   "source": [
    "import pyspark\n",
    "from pyspark.sql import SparkSession\n",
    "spark = SparkSession.builder.master('local').appName('StructureAPI').config('spark.some.config.option', 'some-value').getOrCreate()"
   ]
  },
  {
   "cell_type": "code",
   "execution_count": 2,
   "metadata": {},
   "outputs": [],
   "source": [
    "from pyspark.sql.functions import col, column, expr\n",
    "from pyspark.sql import functions as f"
   ]
  },
  {
   "cell_type": "code",
   "execution_count": 3,
   "metadata": {},
   "outputs": [],
   "source": [
    "df = spark.read.json('movies.json')"
   ]
  },
  {
   "cell_type": "code",
   "execution_count": 4,
   "metadata": {},
   "outputs": [
    {
     "name": "stdout",
     "output_type": "stream",
     "text": [
      "+----------------+--------------------+--------------------+----+\n",
      "|            cast|              genres|               title|year|\n",
      "+----------------+--------------------+--------------------+----+\n",
      "|              []|                  []|After Dark in Cen...|1900|\n",
      "|              []|                  []|Boarding School G...|1900|\n",
      "|              []|                  []|Buffalo Bill's Wi...|1900|\n",
      "|              []|                  []|              Caught|1900|\n",
      "|              []|                  []|Clowns Spinning Hats|1900|\n",
      "|              []|[Short, Documentary]|Capture of Boer B...|1900|\n",
      "|              []|                  []|The Enchanted Dra...|1900|\n",
      "|   [Paul Boyton]|                  []|   Feeding Sea Lions|1900|\n",
      "|              []|            [Comedy]|How to Make a Fat...|1900|\n",
      "|              []|                  []|     New Life Rescue|1900|\n",
      "|              []|                  []|    New Morning Bath|1900|\n",
      "|              []|                  []|Searching Ruins o...|1900|\n",
      "|              []|                  []|The Tribulations ...|1900|\n",
      "|              []|            [Comedy]|Trouble in Hogan'...|1900|\n",
      "|              []|             [Short]|      Two Old Sparks|1900|\n",
      "|[Ching Ling Foo]|             [Short]|The Wonder, Ching...|1900|\n",
      "|              []|             [Short]|  Watermelon Contest|1900|\n",
      "|              []|                  []|   Acrobats in Cairo|1901|\n",
      "|              []|                  []|  An Affair of Honor|1901|\n",
      "|              []|                  []|Another Job for t...|1901|\n",
      "+----------------+--------------------+--------------------+----+\n",
      "only showing top 20 rows\n",
      "\n"
     ]
    }
   ],
   "source": [
    "df.show()"
   ]
  },
  {
   "cell_type": "code",
   "execution_count": 5,
   "metadata": {},
   "outputs": [
    {
     "name": "stdout",
     "output_type": "stream",
     "text": [
      "root\n",
      " |-- cast: array (nullable = true)\n",
      " |    |-- element: string (containsNull = true)\n",
      " |-- genres: array (nullable = true)\n",
      " |    |-- element: string (containsNull = true)\n",
      " |-- title: string (nullable = true)\n",
      " |-- year: long (nullable = true)\n",
      "\n"
     ]
    }
   ],
   "source": [
    "df.printSchema()"
   ]
  },
  {
   "cell_type": "code",
   "execution_count": 6,
   "metadata": {},
   "outputs": [
    {
     "data": {
      "text/plain": [
       "28789"
      ]
     },
     "execution_count": 6,
     "metadata": {},
     "output_type": "execute_result"
    }
   ],
   "source": [
    "# 1. Show the number of distinct fimls in the dataset\n",
    "df.distinct().count()"
   ]
  },
  {
   "cell_type": "code",
   "execution_count": 7,
   "metadata": {},
   "outputs": [
    {
     "data": {
      "text/plain": [
       "1015"
      ]
     },
     "execution_count": 7,
     "metadata": {},
     "output_type": "execute_result"
    }
   ],
   "source": [
    "# 2. Count the number of films released during the years 2012 and 2015 (included)\n",
    "df.filter((col('year') >= 2012) & (col('year') <= 2015)).count()"
   ]
  },
  {
   "cell_type": "code",
   "execution_count": 10,
   "metadata": {},
   "outputs": [
    {
     "name": "stdout",
     "output_type": "stream",
     "text": [
      "+----+-----+\n",
      "|year|count|\n",
      "+----+-----+\n",
      "|1919|  634|\n",
      "+----+-----+\n",
      "\n"
     ]
    }
   ],
   "source": [
    "# 3. Show the year in which the number of movies released is highest. Only one highest year is expected in the output.\n",
    "df.groupBy('year').count().sort('count', ascending=False).limit(1).show()"
   ]
  },
  {
   "cell_type": "code",
   "execution_count": 15,
   "metadata": {},
   "outputs": [
    {
     "name": "stdout",
     "output_type": "stream",
     "text": [
      "+--------------------+----------------+--------------------+----+\n",
      "|                cast|          genres|               title|year|\n",
      "+--------------------+----------------+--------------------+----+\n",
      "|[Earle Foxe, Alie...|         [Drama]|  A Desperate Chance|1913|\n",
      "|[Charlotte Burton...|         [Drama]|    The Archeologist|1914|\n",
      "|[Charlotte Burton...|         [Drama]|At the Potter's W...|1914|\n",
      "|[Herbert Tracey, ...|        [Comedy]|    Back to the Farm|1914|\n",
      "|[Charlotte Burton...|              []|    The Beggar Child|1914|\n",
      "|[William Garwood,...|              []|       Billy's Rival|1914|\n",
      "|[B. Reeves Eason,...|         [Drama]| Break, Break, Break|1914|\n",
      "|[Charlotte Burton...|              []|       The Butterfly|1914|\n",
      "|[Charlotte Burton...|       [Western]|Calamity Anne's L...|1914|\n",
      "|[Charlie Chaplin,...|        [Comedy]|    The Star Boarder|1914|\n",
      "|[Sydney Ayres, Ja...|              []|A Story of Little...|1914|\n",
      "|[Sydney Ayres, Pe...|              []|The Story of the ...|1914|\n",
      "|[Charlotte Burton...|              []|    This Is th' Life|1914|\n",
      "|[Lon Chaney, Leat...|  [Crime, Drama]|   The Ace of Hearts|1921|\n",
      "|[Madge Kennedy, M...| [Comedy, Drama]|  The Purple Highway|1923|\n",
      "|[Douglas Fairbank...|              []| The Thief of Bagdad|1924|\n",
      "|[Kru, Chantui, Na...|   [Documentary]|Chang: A Drama of...|1927|\n",
      "|[H. B. Warner, An...|         [Drama]|     Sorrell and Son|1927|\n",
      "|[Sam De Grasse, V...|     [Adventure]|The Wreck of the ...|1927|\n",
      "|[Fredric March, O...|[Drama, Romance]|     Anthony Adverse|1936|\n",
      "+--------------------+----------------+--------------------+----+\n",
      "only showing top 20 rows\n",
      "\n"
     ]
    }
   ],
   "source": [
    "# 4. Show the list of movies such that for each film, \n",
    "# the number of actors/actresses is at least five, and the number of genres it belongs to is at most two genres.\n",
    "df.filter((f.size('cast') >= 5) & (f.size('genres') <= 2)).show()"
   ]
  },
  {
   "cell_type": "code",
   "execution_count": null,
   "metadata": {},
   "outputs": [],
   "source": []
  }
 ],
 "metadata": {
  "kernelspec": {
   "display_name": "base",
   "language": "python",
   "name": "python3"
  },
  "language_info": {
   "codemirror_mode": {
    "name": "ipython",
    "version": 3
   },
   "file_extension": ".py",
   "mimetype": "text/x-python",
   "name": "python",
   "nbconvert_exporter": "python",
   "pygments_lexer": "ipython3",
   "version": "3.8.8"
  },
  "orig_nbformat": 4
 },
 "nbformat": 4,
 "nbformat_minor": 2
}
